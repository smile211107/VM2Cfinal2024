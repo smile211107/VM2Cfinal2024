{
 "cells": [
  {
   "cell_type": "markdown",
   "metadata": {},
   "source": [
    "Import Libraries and Dependencies"
   ]
  },
  {
   "cell_type": "code",
   "execution_count": 1,
   "metadata": {},
   "outputs": [],
   "source": [
    "import pandas as pd\n",
    "import numpy as np\n",
    "import gurobipy as gp\n",
    "from gurobipy import GRB"
   ]
  },
  {
   "cell_type": "markdown",
   "metadata": {},
   "source": [
    "Format Input (Change from .txt to .csv)"
   ]
  },
  {
   "cell_type": "code",
   "execution_count": 2,
   "metadata": {},
   "outputs": [],
   "source": [
    "def change(name):\n",
    "    f = open(f\"{name}.txt\", \"r\")\n",
    "\n",
    "    out = open(f\"{name}.csv\", \"w\")\n",
    "\n",
    "    for line in f:\n",
    "        change = line.replace(\"\\t\", \",\")\n",
    "        out.write(change)\n"
   ]
  },
  {
   "cell_type": "code",
   "execution_count": 3,
   "metadata": {},
   "outputs": [],
   "source": [
    "# change(\"FacilityMultiple\")\n",
    "# change(\"Demand\")\n",
    "# change(\"TransCost\")"
   ]
  },
  {
   "cell_type": "markdown",
   "metadata": {},
   "source": [
    "Get Data from csv files"
   ]
  },
  {
   "cell_type": "code",
   "execution_count": 4,
   "metadata": {},
   "outputs": [],
   "source": [
    "def read_file(filename):\n",
    "    with open(filename,\"r\") as f:\n",
    "        df = pd.read_csv(f,header=None)\n",
    "        return df"
   ]
  },
  {
   "cell_type": "code",
   "execution_count": 5,
   "metadata": {},
   "outputs": [],
   "source": [
    "shops = read_file(\"Demand.csv\").to_numpy()\n",
    "transport = read_file(\"TransCost.csv\").to_numpy()"
   ]
  },
  {
   "cell_type": "code",
   "execution_count": 6,
   "metadata": {},
   "outputs": [
    {
     "data": {
      "text/plain": [
       "(30, 200)"
      ]
     },
     "execution_count": 6,
     "metadata": {},
     "output_type": "execute_result"
    }
   ],
   "source": [
    "transport_extra = []\n",
    "for arr in transport:\n",
    "    for i in range(3):\n",
    "        transport_extra.append(arr)\n",
    "transport_extra = np.array(transport_extra)\n",
    "transport_extra.shape"
   ]
  },
  {
   "cell_type": "code",
   "execution_count": 7,
   "metadata": {},
   "outputs": [
    {
     "data": {
      "text/plain": [
       "array([[[5.21e+00, 8.07e+00, 1.00e+03, 6.80e+02],\n",
       "        [5.21e+00, 8.07e+00, 1.20e+03, 7.80e+02],\n",
       "        [5.21e+00, 8.07e+00, 1.50e+03, 9.20e+02]],\n",
       "\n",
       "       [[4.40e+00, 7.31e+00, 1.00e+03, 7.00e+02],\n",
       "        [4.40e+00, 7.31e+00, 1.20e+03, 8.10e+02],\n",
       "        [4.40e+00, 7.31e+00, 1.50e+03, 9.40e+02]],\n",
       "\n",
       "       [[3.26e+00, 6.01e+00, 1.00e+03, 6.80e+02],\n",
       "        [3.26e+00, 6.01e+00, 1.20e+03, 7.90e+02],\n",
       "        [3.26e+00, 6.01e+00, 1.50e+03, 9.10e+02]],\n",
       "\n",
       "       [[3.02e+00, 5.26e+00, 1.00e+03, 6.10e+02],\n",
       "        [3.02e+00, 5.26e+00, 1.20e+03, 7.00e+02],\n",
       "        [3.02e+00, 5.26e+00, 1.50e+03, 8.10e+02]],\n",
       "\n",
       "       [[1.07e+00, 3.86e+00, 1.00e+03, 5.40e+02],\n",
       "        [1.07e+00, 3.86e+00, 1.20e+03, 6.30e+02],\n",
       "        [1.07e+00, 3.86e+00, 1.50e+03, 7.30e+02]],\n",
       "\n",
       "       [[1.52e+00, 2.50e+00, 1.00e+03, 5.00e+02],\n",
       "        [1.52e+00, 2.50e+00, 1.20e+03, 5.80e+02],\n",
       "        [1.52e+00, 2.50e+00, 1.50e+03, 6.60e+02]],\n",
       "\n",
       "       [[4.92e+00, 1.60e-01, 1.00e+03, 5.90e+02],\n",
       "        [4.92e+00, 1.60e-01, 1.20e+03, 6.80e+02],\n",
       "        [4.92e+00, 1.60e-01, 1.50e+03, 7.90e+02]],\n",
       "\n",
       "       [[5.07e+00, 1.34e+00, 1.00e+03, 5.80e+02],\n",
       "        [5.07e+00, 1.34e+00, 1.20e+03, 6.70e+02],\n",
       "        [5.07e+00, 1.34e+00, 1.50e+03, 7.60e+02]],\n",
       "\n",
       "       [[7.85e+00, 4.30e+00, 1.00e+03, 6.00e+02],\n",
       "        [7.85e+00, 4.30e+00, 1.20e+03, 6.90e+02],\n",
       "        [7.85e+00, 4.30e+00, 1.50e+03, 8.00e+02]],\n",
       "\n",
       "       [[8.12e+00, 4.37e+00, 1.00e+03, 6.00e+02],\n",
       "        [8.12e+00, 4.37e+00, 1.20e+03, 6.90e+02],\n",
       "        [8.12e+00, 4.37e+00, 1.50e+03, 8.00e+02]]])"
      ]
     },
     "execution_count": 7,
     "metadata": {},
     "output_type": "execute_result"
    }
   ],
   "source": [
    "temp = read_file(\"FacilityMultiple.csv\")\n",
    "facilities = np.empty((10, 3, 4))\n",
    "\n",
    "for i in range(10):\n",
    "    facilities[i] = temp.groupby(0).get_group(i + 1).iloc[:, 1:].reset_index(drop=True).to_numpy()\n",
    "\n",
    "facilities"
   ]
  },
  {
   "cell_type": "code",
   "execution_count": 8,
   "metadata": {},
   "outputs": [
    {
     "data": {
      "text/plain": [
       "array([[1000., 1200., 1500.],\n",
       "       [1000., 1200., 1500.],\n",
       "       [1000., 1200., 1500.],\n",
       "       [1000., 1200., 1500.],\n",
       "       [1000., 1200., 1500.],\n",
       "       [1000., 1200., 1500.],\n",
       "       [1000., 1200., 1500.],\n",
       "       [1000., 1200., 1500.],\n",
       "       [1000., 1200., 1500.],\n",
       "       [1000., 1200., 1500.]])"
      ]
     },
     "execution_count": 8,
     "metadata": {},
     "output_type": "execute_result"
    }
   ],
   "source": [
    "facilities[:,:,2]"
   ]
  },
  {
   "cell_type": "markdown",
   "metadata": {},
   "source": [
    "Model 2.2.1"
   ]
  },
  {
   "cell_type": "code",
   "execution_count": 9,
   "metadata": {},
   "outputs": [
    {
     "name": "stdout",
     "output_type": "stream",
     "text": [
      "Set parameter WLSAccessID\n",
      "Set parameter WLSSecret\n",
      "Set parameter LicenseID to value 2395694\n",
      "Academic license 2395694 - for non-commercial use only - registered to tr___@gmail.com\n",
      "0.28600001335144043\n"
     ]
    }
   ],
   "source": [
    "Env = gp.Env()\n",
    "Env.setParam('OutputFlag', 0)\n",
    "model = gp.Model(\"2.2.1\", env = Env)\n",
    "\n",
    "#define variables\n",
    "nFactories = 10\n",
    "nShops = 200\n",
    "nPlan = 3\n",
    "MAX_CAPACITY = facilities[:,:,2].flatten()\n",
    "x = model.addMVar(shape = (nFactories * nPlan, nShops), lb = 0, ub = 1000, vtype = GRB.INTEGER, name = \"x\")\n",
    "# chose_fac = model.addMVar(shape = nFactories, vtype = GRB.BINARY, name = \"chose_fac\")\n",
    "chose_plan = model.addMVar(shape = (nFactories * nPlan),vtype = GRB.BINARY, name = \"chose_plan\")\n",
    "demand = shops[:,3]\n",
    "build = facilities[:,:,-1].flatten()\n",
    "# print(build)\n",
    "# print(x.shape)\n",
    "# print(chose_plan.sum(axis=1))\n",
    "# Define constraints\n",
    "\n",
    "# Choose 1 plan only for each point\n",
    "model.addConstrs(chose_plan[i:i+nPlan].sum() <= 1 for i in range(0,nFactories*nPlan,nPlan))\n",
    "\n",
    "# Production rate is under max capacity\n",
    "model.addConstr(x.sum(axis = 1) <= MAX_CAPACITY * chose_plan)\n",
    "\n",
    "# Supply must more than demand for each shop\n",
    "model.addConstrs(gp.quicksum(x[i:i+nPlan,j].sum() for i in range(0,nFactories*nPlan,nPlan)) >= demand[j] for j in range(nShops))\n",
    "\n",
    "#define objective\n",
    "model.setObjective((x * transport_extra).sum() + (chose_plan * build).sum(), GRB.MINIMIZE)\n",
    "\n",
    "model.update()\n",
    "\n",
    "model.optimize()\n",
    "\n",
    "print(model.Runtime)"
   ]
  },
  {
   "cell_type": "markdown",
   "metadata": {},
   "source": [
    "Print Model's Objective Value and an optimal solution"
   ]
  },
  {
   "cell_type": "code",
   "execution_count": 12,
   "metadata": {},
   "outputs": [
    {
     "name": "stdout",
     "output_type": "stream",
     "text": [
      "One solution found\n"
     ]
    }
   ],
   "source": [
    "if model.status == GRB.OPTIMAL:\n",
    "    print(\"One solution found\")\n",
    "    with open(\"2.2.2.ans\",\"w\") as f:\n",
    "        f.write(f\"Total build {(chose_plan.X * build).sum()}\\n\")\n",
    "        for i in range(0,nFactories*nPlan,nPlan):\n",
    "                for k in range(nPlan):\n",
    "                    if chose_plan[i+k].X > 0:\n",
    "                        f.write(f'Factory {i//3} is chosen with plan {k} with cost {build[i+k]}\\n')\n",
    "                f.write(f\"Total production {x[i:i+nPlan].X.sum()}\\n\")\n",
    "        for i in range(0,nFactories*nPlan):\n",
    "            for j in range(nShops):\n",
    "                    f.write(f\"{abs(x[i][j].X)} \")\n",
    "            f.write('\\n')\n",
    "        f.write(f\"{model.ObjVal}\")\n",
    "\n",
    "\n",
    "else:\n",
    "    print('No optimal solution found')"
   ]
  },
  {
   "cell_type": "code",
   "execution_count": 11,
   "metadata": {},
   "outputs": [],
   "source": [
    "# if model.status == GRB.OPTIMAL:\n",
    "#     print(\"One solution found\")\n",
    "#     for i in range(nFactories):\n",
    "#         if chose_fac[i].X > 0:\n",
    "#             print('Factory ', i, ' is chosen')\n",
    "#             print(x[i].X.sum())\n",
    "#             for j in range(nShops):\n",
    "#                 if x[i,j].x > 0:\n",
    "#                     print(f\"Factory {i} sells {x[i][j].X} to shop {j}\")\n",
    "#     print(model.ObjVal)\n",
    "\n",
    "\n",
    "# else:\n",
    "#     print('No optimal solution found')"
   ]
  }
 ],
 "metadata": {
  "kernelspec": {
   "display_name": "Python 3",
   "language": "python",
   "name": "python3"
  },
  "language_info": {
   "codemirror_mode": {
    "name": "ipython",
    "version": 3
   },
   "file_extension": ".py",
   "mimetype": "text/x-python",
   "name": "python",
   "nbconvert_exporter": "python",
   "pygments_lexer": "ipython3",
   "version": "3.10.9"
  }
 },
 "nbformat": 4,
 "nbformat_minor": 2
}
