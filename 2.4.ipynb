{
 "cells": [
  {
   "cell_type": "code",
   "execution_count": 2,
   "metadata": {},
   "outputs": [],
   "source": [
    "from gurobipy import *\n",
    "import numpy as np\n",
    "import pandas as pd\n",
    "import sys"
   ]
  },
  {
   "cell_type": "markdown",
   "metadata": {},
   "source": [
    "## Load model"
   ]
  },
  {
   "cell_type": "code",
   "execution_count": 3,
   "metadata": {},
   "outputs": [
    {
     "name": "stdout",
     "output_type": "stream",
     "text": [
      "Set parameter WLSAccessID\n",
      "Set parameter WLSSecret\n",
      "Set parameter LicenseID to value 2395694\n",
      "Academic license 2395694 - for non-commercial use only - registered to tr___@gmail.com\n",
      "Read MPS format model from file ./model/2.2.1.mps\n",
      "Reading time = 0.00 seconds\n",
      "2.2.1: 210 rows, 2010 columns, 4010 nonzeros\n",
      "Number of vars: 2010\n",
      "Number of constraints: 210\n",
      "[<gurobi.Var x[0,0]>, <gurobi.Var x[0,1]>, <gurobi.Var x[0,2]>, <gurobi.Var x[0,3]>, <gurobi.Var x[0,4]>, <gurobi.Var x[0,5]>, <gurobi.Var x[0,6]>, <gurobi.Var x[0,7]>, <gurobi.Var x[0,8]>, <gurobi.Var x[0,9]>, <gurobi.Var x[0,10]>, <gurobi.Var x[0,11]>, <gurobi.Var x[0,12]>, <gurobi.Var x[0,13]>, <gurobi.Var x[0,14]>, <gurobi.Var x[0,15]>, <gurobi.Var x[0,16]>, <gurobi.Var x[0,17]>, <gurobi.Var x[0,18]>, <gurobi.Var x[0,19]>, <gurobi.Var x[0,20]>, <gurobi.Var x[0,21]>, <gurobi.Var x[0,22]>, <gurobi.Var x[0,23]>, <gurobi.Var x[0,24]>, <gurobi.Var x[0,25]>, <gurobi.Var x[0,26]>, <gurobi.Var x[0,27]>, <gurobi.Var x[0,28]>, <gurobi.Var x[0,29]>, <gurobi.Var x[0,30]>, <gurobi.Var x[0,31]>, <gurobi.Var x[0,32]>, <gurobi.Var x[0,33]>, <gurobi.Var x[0,34]>, <gurobi.Var x[0,35]>, <gurobi.Var x[0,36]>, <gurobi.Var x[0,37]>, <gurobi.Var x[0,38]>, <gurobi.Var x[0,39]>, <gurobi.Var x[0,40]>, <gurobi.Var x[0,41]>, <gurobi.Var x[0,42]>, <gurobi.Var x[0,43]>, <gurobi.Var x[0,44]>, <gurobi.Var x[0,45]>, <gurobi.Var x[0,46]>, <gurobi.Var x[0,47]>, <gurobi.Var x[0,48]>, <gurobi.Var x[0,49]>, <gurobi.Var x[0,50]>, <gurobi.Var x[0,51]>, <gurobi.Var x[0,52]>, <gurobi.Var x[0,53]>, <gurobi.Var x[0,54]>, <gurobi.Var x[0,55]>, <gurobi.Var x[0,56]>, <gurobi.Var x[0,57]>, <gurobi.Var x[0,58]>, <gurobi.Var x[0,59]>, <gurobi.Var x[0,60]>, <gurobi.Var x[0,61]>, <gurobi.Var x[0,62]>, <gurobi.Var x[0,63]>, <gurobi.Var x[0,64]>, <gurobi.Var x[0,65]>, <gurobi.Var x[0,66]>, <gurobi.Var x[0,67]>, <gurobi.Var x[0,68]>, <gurobi.Var x[0,69]>, <gurobi.Var x[0,70]>, <gurobi.Var x[0,71]>, <gurobi.Var x[0,72]>, <gurobi.Var x[0,73]>, <gurobi.Var x[0,74]>, <gurobi.Var x[0,75]>, <gurobi.Var x[0,76]>, <gurobi.Var x[0,77]>, <gurobi.Var x[0,78]>, <gurobi.Var x[0,79]>, <gurobi.Var x[0,80]>, <gurobi.Var x[0,81]>, <gurobi.Var x[0,82]>, <gurobi.Var x[0,83]>, <gurobi.Var x[0,84]>, <gurobi.Var x[0,85]>, <gurobi.Var x[0,86]>, <gurobi.Var x[0,87]>, <gurobi.Var x[0,88]>, <gurobi.Var x[0,89]>, <gurobi.Var x[0,90]>, <gurobi.Var x[0,91]>, <gurobi.Var x[0,92]>, <gurobi.Var x[0,93]>, <gurobi.Var x[0,94]>, <gurobi.Var x[0,95]>, <gurobi.Var x[0,96]>, <gurobi.Var x[0,97]>, <gurobi.Var x[0,98]>, <gurobi.Var x[0,99]>, <gurobi.Var x[0,100]>, <gurobi.Var x[0,101]>, <gurobi.Var x[0,102]>, <gurobi.Var x[0,103]>, <gurobi.Var x[0,104]>, <gurobi.Var x[0,105]>, <gurobi.Var x[0,106]>, <gurobi.Var x[0,107]>, <gurobi.Var x[0,108]>, <gurobi.Var x[0,109]>, <gurobi.Var x[0,110]>, <gurobi.Var x[0,111]>, <gurobi.Var x[0,112]>, <gurobi.Var x[0,113]>, <gurobi.Var x[0,114]>, <gurobi.Var x[0,115]>, <gurobi.Var x[0,116]>, <gurobi.Var x[0,117]>, <gurobi.Var x[0,118]>, <gurobi.Var x[0,119]>, <gurobi.Var x[0,120]>, <gurobi.Var x[0,121]>, <gurobi.Var x[0,122]>, <gurobi.Var x[0,123]>, <gurobi.Var x[0,124]>, <gurobi.Var x[0,125]>, <gurobi.Var x[0,126]>, <gurobi.Var x[0,127]>, <gurobi.Var x[0,128]>, <gurobi.Var x[0,129]>, <gurobi.Var x[0,130]>, <gurobi.Var x[0,131]>, <gurobi.Var x[0,132]>, <gurobi.Var x[0,133]>, <gurobi.Var x[0,134]>, <gurobi.Var x[0,135]>, <gurobi.Var x[0,136]>, <gurobi.Var x[0,137]>, <gurobi.Var x[0,138]>, <gurobi.Var x[0,139]>, <gurobi.Var x[0,140]>, <gurobi.Var x[0,141]>, <gurobi.Var x[0,142]>, <gurobi.Var x[0,143]>, <gurobi.Var x[0,144]>, <gurobi.Var x[0,145]>, <gurobi.Var x[0,146]>, <gurobi.Var x[0,147]>, <gurobi.Var x[0,148]>, <gurobi.Var x[0,149]>, <gurobi.Var x[0,150]>, <gurobi.Var x[0,151]>, <gurobi.Var x[0,152]>, <gurobi.Var x[0,153]>, <gurobi.Var x[0,154]>, <gurobi.Var x[0,155]>, <gurobi.Var x[0,156]>, <gurobi.Var x[0,157]>, <gurobi.Var x[0,158]>, <gurobi.Var x[0,159]>, <gurobi.Var x[0,160]>, <gurobi.Var x[0,161]>, <gurobi.Var x[0,162]>, <gurobi.Var x[0,163]>, <gurobi.Var x[0,164]>, <gurobi.Var x[0,165]>, <gurobi.Var x[0,166]>, <gurobi.Var x[0,167]>, <gurobi.Var x[0,168]>, <gurobi.Var x[0,169]>, <gurobi.Var x[0,170]>, <gurobi.Var x[0,171]>, <gurobi.Var x[0,172]>, <gurobi.Var x[0,173]>, <gurobi.Var x[0,174]>, <gurobi.Var x[0,175]>, <gurobi.Var x[0,176]>, <gurobi.Var x[0,177]>, <gurobi.Var x[0,178]>, <gurobi.Var x[0,179]>, <gurobi.Var x[0,180]>, <gurobi.Var x[0,181]>, <gurobi.Var x[0,182]>, <gurobi.Var x[0,183]>, <gurobi.Var x[0,184]>, <gurobi.Var x[0,185]>, <gurobi.Var x[0,186]>, <gurobi.Var x[0,187]>, <gurobi.Var x[0,188]>, <gurobi.Var x[0,189]>, <gurobi.Var x[0,190]>, <gurobi.Var x[0,191]>, <gurobi.Var x[0,192]>, <gurobi.Var x[0,193]>, <gurobi.Var x[0,194]>, <gurobi.Var x[0,195]>, <gurobi.Var x[0,196]>, <gurobi.Var x[0,197]>, <gurobi.Var x[0,198]>, <gurobi.Var x[0,199]>, <gurobi.Var x[1,0]>, <gurobi.Var x[1,1]>, <gurobi.Var x[1,2]>, <gurobi.Var x[1,3]>, <gurobi.Var x[1,4]>, <gurobi.Var x[1,5]>, <gurobi.Var x[1,6]>, <gurobi.Var x[1,7]>, <gurobi.Var x[1,8]>, <gurobi.Var x[1,9]>, <gurobi.Var x[1,10]>, <gurobi.Var x[1,11]>, <gurobi.Var x[1,12]>, <gurobi.Var x[1,13]>, <gurobi.Var x[1,14]>, <gurobi.Var x[1,15]>, <gurobi.Var x[1,16]>, <gurobi.Var x[1,17]>, <gurobi.Var x[1,18]>, <gurobi.Var x[1,19]>, <gurobi.Var x[1,20]>, <gurobi.Var x[1,21]>, <gurobi.Var x[1,22]>, <gurobi.Var x[1,23]>, <gurobi.Var x[1,24]>, <gurobi.Var x[1,25]>, <gurobi.Var x[1,26]>, <gurobi.Var x[1,27]>, <gurobi.Var x[1,28]>, <gurobi.Var x[1,29]>, <gurobi.Var x[1,30]>, <gurobi.Var x[1,31]>, <gurobi.Var x[1,32]>, <gurobi.Var x[1,33]>, <gurobi.Var x[1,34]>, <gurobi.Var x[1,35]>, <gurobi.Var x[1,36]>, <gurobi.Var x[1,37]>, <gurobi.Var x[1,38]>, <gurobi.Var x[1,39]>, <gurobi.Var x[1,40]>, <gurobi.Var x[1,41]>, <gurobi.Var x[1,42]>, <gurobi.Var x[1,43]>, <gurobi.Var x[1,44]>, <gurobi.Var x[1,45]>, <gurobi.Var x[1,46]>, <gurobi.Var x[1,47]>, <gurobi.Var x[1,48]>, <gurobi.Var x[1,49]>, <gurobi.Var x[1,50]>, <gurobi.Var x[1,51]>, <gurobi.Var x[1,52]>, <gurobi.Var x[1,53]>, <gurobi.Var x[1,54]>, <gurobi.Var x[1,55]>, <gurobi.Var x[1,56]>, <gurobi.Var x[1,57]>, <gurobi.Var x[1,58]>, <gurobi.Var x[1,59]>, <gurobi.Var x[1,60]>, <gurobi.Var x[1,61]>, <gurobi.Var x[1,62]>, <gurobi.Var x[1,63]>, <gurobi.Var x[1,64]>, <gurobi.Var x[1,65]>, <gurobi.Var x[1,66]>, <gurobi.Var x[1,67]>, <gurobi.Var x[1,68]>, <gurobi.Var x[1,69]>, <gurobi.Var x[1,70]>, <gurobi.Var x[1,71]>, <gurobi.Var x[1,72]>, <gurobi.Var x[1,73]>, <gurobi.Var x[1,74]>, <gurobi.Var x[1,75]>, <gurobi.Var x[1,76]>, <gurobi.Var x[1,77]>, <gurobi.Var x[1,78]>, <gurobi.Var x[1,79]>, <gurobi.Var x[1,80]>, <gurobi.Var x[1,81]>, <gurobi.Var x[1,82]>, <gurobi.Var x[1,83]>, <gurobi.Var x[1,84]>, <gurobi.Var x[1,85]>, <gurobi.Var x[1,86]>, <gurobi.Var x[1,87]>, <gurobi.Var x[1,88]>, <gurobi.Var x[1,89]>, <gurobi.Var x[1,90]>, <gurobi.Var x[1,91]>, <gurobi.Var x[1,92]>, <gurobi.Var x[1,93]>, <gurobi.Var x[1,94]>, <gurobi.Var x[1,95]>, <gurobi.Var x[1,96]>, <gurobi.Var x[1,97]>, <gurobi.Var x[1,98]>, <gurobi.Var x[1,99]>, <gurobi.Var x[1,100]>, <gurobi.Var x[1,101]>, <gurobi.Var x[1,102]>, <gurobi.Var x[1,103]>, <gurobi.Var x[1,104]>, <gurobi.Var x[1,105]>, <gurobi.Var x[1,106]>, <gurobi.Var x[1,107]>, <gurobi.Var x[1,108]>, <gurobi.Var x[1,109]>, <gurobi.Var x[1,110]>, <gurobi.Var x[1,111]>, <gurobi.Var x[1,112]>, <gurobi.Var x[1,113]>, <gurobi.Var x[1,114]>, <gurobi.Var x[1,115]>, <gurobi.Var x[1,116]>, <gurobi.Var x[1,117]>, <gurobi.Var x[1,118]>, <gurobi.Var x[1,119]>, <gurobi.Var x[1,120]>, <gurobi.Var x[1,121]>, <gurobi.Var x[1,122]>, <gurobi.Var x[1,123]>, <gurobi.Var x[1,124]>, <gurobi.Var x[1,125]>, <gurobi.Var x[1,126]>, <gurobi.Var x[1,127]>, <gurobi.Var x[1,128]>, <gurobi.Var x[1,129]>, <gurobi.Var x[1,130]>, <gurobi.Var x[1,131]>, <gurobi.Var x[1,132]>, <gurobi.Var x[1,133]>, <gurobi.Var x[1,134]>, <gurobi.Var x[1,135]>, <gurobi.Var x[1,136]>, <gurobi.Var x[1,137]>, <gurobi.Var x[1,138]>, <gurobi.Var x[1,139]>, <gurobi.Var x[1,140]>, <gurobi.Var x[1,141]>, <gurobi.Var x[1,142]>, <gurobi.Var x[1,143]>, <gurobi.Var x[1,144]>, <gurobi.Var x[1,145]>, <gurobi.Var x[1,146]>, <gurobi.Var x[1,147]>, <gurobi.Var x[1,148]>, <gurobi.Var x[1,149]>, <gurobi.Var x[1,150]>, <gurobi.Var x[1,151]>, <gurobi.Var x[1,152]>, <gurobi.Var x[1,153]>, <gurobi.Var x[1,154]>, <gurobi.Var x[1,155]>, <gurobi.Var x[1,156]>, <gurobi.Var x[1,157]>, <gurobi.Var x[1,158]>, <gurobi.Var x[1,159]>, <gurobi.Var x[1,160]>, <gurobi.Var x[1,161]>, <gurobi.Var x[1,162]>, <gurobi.Var x[1,163]>, <gurobi.Var x[1,164]>, <gurobi.Var x[1,165]>, <gurobi.Var x[1,166]>, <gurobi.Var x[1,167]>, <gurobi.Var x[1,168]>, <gurobi.Var x[1,169]>, <gurobi.Var x[1,170]>, <gurobi.Var x[1,171]>, <gurobi.Var x[1,172]>, <gurobi.Var x[1,173]>, <gurobi.Var x[1,174]>, <gurobi.Var x[1,175]>, <gurobi.Var x[1,176]>, <gurobi.Var x[1,177]>, <gurobi.Var x[1,178]>, <gurobi.Var x[1,179]>, <gurobi.Var x[1,180]>, <gurobi.Var x[1,181]>, <gurobi.Var x[1,182]>, <gurobi.Var x[1,183]>, <gurobi.Var x[1,184]>, <gurobi.Var x[1,185]>, <gurobi.Var x[1,186]>, <gurobi.Var x[1,187]>, <gurobi.Var x[1,188]>, <gurobi.Var x[1,189]>, <gurobi.Var x[1,190]>, <gurobi.Var x[1,191]>, <gurobi.Var x[1,192]>, <gurobi.Var x[1,193]>, <gurobi.Var x[1,194]>, <gurobi.Var x[1,195]>, <gurobi.Var x[1,196]>, <gurobi.Var x[1,197]>, <gurobi.Var x[1,198]>, <gurobi.Var x[1,199]>, <gurobi.Var x[2,0]>, <gurobi.Var x[2,1]>, <gurobi.Var x[2,2]>, <gurobi.Var x[2,3]>, <gurobi.Var x[2,4]>, <gurobi.Var x[2,5]>, <gurobi.Var x[2,6]>, <gurobi.Var x[2,7]>, <gurobi.Var x[2,8]>, <gurobi.Var x[2,9]>, <gurobi.Var x[2,10]>, <gurobi.Var x[2,11]>, <gurobi.Var x[2,12]>, <gurobi.Var x[2,13]>, <gurobi.Var x[2,14]>, <gurobi.Var x[2,15]>, <gurobi.Var x[2,16]>, <gurobi.Var x[2,17]>, <gurobi.Var x[2,18]>, <gurobi.Var x[2,19]>, <gurobi.Var x[2,20]>, <gurobi.Var x[2,21]>, <gurobi.Var x[2,22]>, <gurobi.Var x[2,23]>, <gurobi.Var x[2,24]>, <gurobi.Var x[2,25]>, <gurobi.Var x[2,26]>, <gurobi.Var x[2,27]>, <gurobi.Var x[2,28]>, <gurobi.Var x[2,29]>, <gurobi.Var x[2,30]>, <gurobi.Var x[2,31]>, <gurobi.Var x[2,32]>, <gurobi.Var x[2,33]>, <gurobi.Var x[2,34]>, <gurobi.Var x[2,35]>, <gurobi.Var x[2,36]>, <gurobi.Var x[2,37]>, <gurobi.Var x[2,38]>, <gurobi.Var x[2,39]>, <gurobi.Var x[2,40]>, <gurobi.Var x[2,41]>, <gurobi.Var x[2,42]>, <gurobi.Var x[2,43]>, <gurobi.Var x[2,44]>, <gurobi.Var x[2,45]>, <gurobi.Var x[2,46]>, <gurobi.Var x[2,47]>, <gurobi.Var x[2,48]>, <gurobi.Var x[2,49]>, <gurobi.Var x[2,50]>, <gurobi.Var x[2,51]>, <gurobi.Var x[2,52]>, <gurobi.Var x[2,53]>, <gurobi.Var x[2,54]>, <gurobi.Var x[2,55]>, <gurobi.Var x[2,56]>, <gurobi.Var x[2,57]>, <gurobi.Var x[2,58]>, <gurobi.Var x[2,59]>, <gurobi.Var x[2,60]>, <gurobi.Var x[2,61]>, <gurobi.Var x[2,62]>, <gurobi.Var x[2,63]>, <gurobi.Var x[2,64]>, <gurobi.Var x[2,65]>, <gurobi.Var x[2,66]>, <gurobi.Var x[2,67]>, <gurobi.Var x[2,68]>, <gurobi.Var x[2,69]>, <gurobi.Var x[2,70]>, <gurobi.Var x[2,71]>, <gurobi.Var x[2,72]>, <gurobi.Var x[2,73]>, <gurobi.Var x[2,74]>, <gurobi.Var x[2,75]>, <gurobi.Var x[2,76]>, <gurobi.Var x[2,77]>, <gurobi.Var x[2,78]>, <gurobi.Var x[2,79]>, <gurobi.Var x[2,80]>, <gurobi.Var x[2,81]>, <gurobi.Var x[2,82]>, <gurobi.Var x[2,83]>, <gurobi.Var x[2,84]>, <gurobi.Var x[2,85]>, <gurobi.Var x[2,86]>, <gurobi.Var x[2,87]>, <gurobi.Var x[2,88]>, <gurobi.Var x[2,89]>, <gurobi.Var x[2,90]>, <gurobi.Var x[2,91]>, <gurobi.Var x[2,92]>, <gurobi.Var x[2,93]>, <gurobi.Var x[2,94]>, <gurobi.Var x[2,95]>, <gurobi.Var x[2,96]>, <gurobi.Var x[2,97]>, <gurobi.Var x[2,98]>, <gurobi.Var x[2,99]>, <gurobi.Var x[2,100]>, <gurobi.Var x[2,101]>, <gurobi.Var x[2,102]>, <gurobi.Var x[2,103]>, <gurobi.Var x[2,104]>, <gurobi.Var x[2,105]>, <gurobi.Var x[2,106]>, <gurobi.Var x[2,107]>, <gurobi.Var x[2,108]>, <gurobi.Var x[2,109]>, <gurobi.Var x[2,110]>, <gurobi.Var x[2,111]>, <gurobi.Var x[2,112]>, <gurobi.Var x[2,113]>, <gurobi.Var x[2,114]>, <gurobi.Var x[2,115]>, <gurobi.Var x[2,116]>, <gurobi.Var x[2,117]>, <gurobi.Var x[2,118]>, <gurobi.Var x[2,119]>, <gurobi.Var x[2,120]>, <gurobi.Var x[2,121]>, <gurobi.Var x[2,122]>, <gurobi.Var x[2,123]>, <gurobi.Var x[2,124]>, <gurobi.Var x[2,125]>, <gurobi.Var x[2,126]>, <gurobi.Var x[2,127]>, <gurobi.Var x[2,128]>, <gurobi.Var x[2,129]>, <gurobi.Var x[2,130]>, <gurobi.Var x[2,131]>, <gurobi.Var x[2,132]>, <gurobi.Var x[2,133]>, <gurobi.Var x[2,134]>, <gurobi.Var x[2,135]>, <gurobi.Var x[2,136]>, <gurobi.Var x[2,137]>, <gurobi.Var x[2,138]>, <gurobi.Var x[2,139]>, <gurobi.Var x[2,140]>, <gurobi.Var x[2,141]>, <gurobi.Var x[2,142]>, <gurobi.Var x[2,143]>, <gurobi.Var x[2,144]>, <gurobi.Var x[2,145]>, <gurobi.Var x[2,146]>, <gurobi.Var x[2,147]>, <gurobi.Var x[2,148]>, <gurobi.Var x[2,149]>, <gurobi.Var x[2,150]>, <gurobi.Var x[2,151]>, <gurobi.Var x[2,152]>, <gurobi.Var x[2,153]>, <gurobi.Var x[2,154]>, <gurobi.Var x[2,155]>, <gurobi.Var x[2,156]>, <gurobi.Var x[2,157]>, <gurobi.Var x[2,158]>, <gurobi.Var x[2,159]>, <gurobi.Var x[2,160]>, <gurobi.Var x[2,161]>, <gurobi.Var x[2,162]>, <gurobi.Var x[2,163]>, <gurobi.Var x[2,164]>, <gurobi.Var x[2,165]>, <gurobi.Var x[2,166]>, <gurobi.Var x[2,167]>, <gurobi.Var x[2,168]>, <gurobi.Var x[2,169]>, <gurobi.Var x[2,170]>, <gurobi.Var x[2,171]>, <gurobi.Var x[2,172]>, <gurobi.Var x[2,173]>, <gurobi.Var x[2,174]>, <gurobi.Var x[2,175]>, <gurobi.Var x[2,176]>, <gurobi.Var x[2,177]>, <gurobi.Var x[2,178]>, <gurobi.Var x[2,179]>, <gurobi.Var x[2,180]>, <gurobi.Var x[2,181]>, <gurobi.Var x[2,182]>, <gurobi.Var x[2,183]>, <gurobi.Var x[2,184]>, <gurobi.Var x[2,185]>, <gurobi.Var x[2,186]>, <gurobi.Var x[2,187]>, <gurobi.Var x[2,188]>, <gurobi.Var x[2,189]>, <gurobi.Var x[2,190]>, <gurobi.Var x[2,191]>, <gurobi.Var x[2,192]>, <gurobi.Var x[2,193]>, <gurobi.Var x[2,194]>, <gurobi.Var x[2,195]>, <gurobi.Var x[2,196]>, <gurobi.Var x[2,197]>, <gurobi.Var x[2,198]>, <gurobi.Var x[2,199]>, <gurobi.Var x[3,0]>, <gurobi.Var x[3,1]>, <gurobi.Var x[3,2]>, <gurobi.Var x[3,3]>, <gurobi.Var x[3,4]>, <gurobi.Var x[3,5]>, <gurobi.Var x[3,6]>, <gurobi.Var x[3,7]>, <gurobi.Var x[3,8]>, <gurobi.Var x[3,9]>, <gurobi.Var x[3,10]>, <gurobi.Var x[3,11]>, <gurobi.Var x[3,12]>, <gurobi.Var x[3,13]>, <gurobi.Var x[3,14]>, <gurobi.Var x[3,15]>, <gurobi.Var x[3,16]>, <gurobi.Var x[3,17]>, <gurobi.Var x[3,18]>, <gurobi.Var x[3,19]>, <gurobi.Var x[3,20]>, <gurobi.Var x[3,21]>, <gurobi.Var x[3,22]>, <gurobi.Var x[3,23]>, <gurobi.Var x[3,24]>, <gurobi.Var x[3,25]>, <gurobi.Var x[3,26]>, <gurobi.Var x[3,27]>, <gurobi.Var x[3,28]>, <gurobi.Var x[3,29]>, <gurobi.Var x[3,30]>, <gurobi.Var x[3,31]>, <gurobi.Var x[3,32]>, <gurobi.Var x[3,33]>, <gurobi.Var x[3,34]>, <gurobi.Var x[3,35]>, <gurobi.Var x[3,36]>, <gurobi.Var x[3,37]>, <gurobi.Var x[3,38]>, <gurobi.Var x[3,39]>, <gurobi.Var x[3,40]>, <gurobi.Var x[3,41]>, <gurobi.Var x[3,42]>, <gurobi.Var x[3,43]>, <gurobi.Var x[3,44]>, <gurobi.Var x[3,45]>, <gurobi.Var x[3,46]>, <gurobi.Var x[3,47]>, <gurobi.Var x[3,48]>, <gurobi.Var x[3,49]>, <gurobi.Var x[3,50]>, <gurobi.Var x[3,51]>, <gurobi.Var x[3,52]>, <gurobi.Var x[3,53]>, <gurobi.Var x[3,54]>, <gurobi.Var x[3,55]>, <gurobi.Var x[3,56]>, <gurobi.Var x[3,57]>, <gurobi.Var x[3,58]>, <gurobi.Var x[3,59]>, <gurobi.Var x[3,60]>, <gurobi.Var x[3,61]>, <gurobi.Var x[3,62]>, <gurobi.Var x[3,63]>, <gurobi.Var x[3,64]>, <gurobi.Var x[3,65]>, <gurobi.Var x[3,66]>, <gurobi.Var x[3,67]>, <gurobi.Var x[3,68]>, <gurobi.Var x[3,69]>, <gurobi.Var x[3,70]>, <gurobi.Var x[3,71]>, <gurobi.Var x[3,72]>, <gurobi.Var x[3,73]>, <gurobi.Var x[3,74]>, <gurobi.Var x[3,75]>, <gurobi.Var x[3,76]>, <gurobi.Var x[3,77]>, <gurobi.Var x[3,78]>, <gurobi.Var x[3,79]>, <gurobi.Var x[3,80]>, <gurobi.Var x[3,81]>, <gurobi.Var x[3,82]>, <gurobi.Var x[3,83]>, <gurobi.Var x[3,84]>, <gurobi.Var x[3,85]>, <gurobi.Var x[3,86]>, <gurobi.Var x[3,87]>, <gurobi.Var x[3,88]>, <gurobi.Var x[3,89]>, <gurobi.Var x[3,90]>, <gurobi.Var x[3,91]>, <gurobi.Var x[3,92]>, <gurobi.Var x[3,93]>, <gurobi.Var x[3,94]>, <gurobi.Var x[3,95]>, <gurobi.Var x[3,96]>, <gurobi.Var x[3,97]>, <gurobi.Var x[3,98]>, <gurobi.Var x[3,99]>, <gurobi.Var x[3,100]>, <gurobi.Var x[3,101]>, <gurobi.Var x[3,102]>, <gurobi.Var x[3,103]>, <gurobi.Var x[3,104]>, <gurobi.Var x[3,105]>, <gurobi.Var x[3,106]>, <gurobi.Var x[3,107]>, <gurobi.Var x[3,108]>, <gurobi.Var x[3,109]>, <gurobi.Var x[3,110]>, <gurobi.Var x[3,111]>, <gurobi.Var x[3,112]>, <gurobi.Var x[3,113]>, <gurobi.Var x[3,114]>, <gurobi.Var x[3,115]>, <gurobi.Var x[3,116]>, <gurobi.Var x[3,117]>, <gurobi.Var x[3,118]>, <gurobi.Var x[3,119]>, <gurobi.Var x[3,120]>, <gurobi.Var x[3,121]>, <gurobi.Var x[3,122]>, <gurobi.Var x[3,123]>, <gurobi.Var x[3,124]>, <gurobi.Var x[3,125]>, <gurobi.Var x[3,126]>, <gurobi.Var x[3,127]>, <gurobi.Var x[3,128]>, <gurobi.Var x[3,129]>, <gurobi.Var x[3,130]>, <gurobi.Var x[3,131]>, <gurobi.Var x[3,132]>, <gurobi.Var x[3,133]>, <gurobi.Var x[3,134]>, <gurobi.Var x[3,135]>, <gurobi.Var x[3,136]>, <gurobi.Var x[3,137]>, <gurobi.Var x[3,138]>, <gurobi.Var x[3,139]>, <gurobi.Var x[3,140]>, <gurobi.Var x[3,141]>, <gurobi.Var x[3,142]>, <gurobi.Var x[3,143]>, <gurobi.Var x[3,144]>, <gurobi.Var x[3,145]>, <gurobi.Var x[3,146]>, <gurobi.Var x[3,147]>, <gurobi.Var x[3,148]>, <gurobi.Var x[3,149]>, <gurobi.Var x[3,150]>, <gurobi.Var x[3,151]>, <gurobi.Var x[3,152]>, <gurobi.Var x[3,153]>, <gurobi.Var x[3,154]>, <gurobi.Var x[3,155]>, <gurobi.Var x[3,156]>, <gurobi.Var x[3,157]>, <gurobi.Var x[3,158]>, <gurobi.Var x[3,159]>, <gurobi.Var x[3,160]>, <gurobi.Var x[3,161]>, <gurobi.Var x[3,162]>, <gurobi.Var x[3,163]>, <gurobi.Var x[3,164]>, <gurobi.Var x[3,165]>, <gurobi.Var x[3,166]>, <gurobi.Var x[3,167]>, <gurobi.Var x[3,168]>, <gurobi.Var x[3,169]>, <gurobi.Var x[3,170]>, <gurobi.Var x[3,171]>, <gurobi.Var x[3,172]>, <gurobi.Var x[3,173]>, <gurobi.Var x[3,174]>, <gurobi.Var x[3,175]>, <gurobi.Var x[3,176]>, <gurobi.Var x[3,177]>, <gurobi.Var x[3,178]>, <gurobi.Var x[3,179]>, <gurobi.Var x[3,180]>, <gurobi.Var x[3,181]>, <gurobi.Var x[3,182]>, <gurobi.Var x[3,183]>, <gurobi.Var x[3,184]>, <gurobi.Var x[3,185]>, <gurobi.Var x[3,186]>, <gurobi.Var x[3,187]>, <gurobi.Var x[3,188]>, <gurobi.Var x[3,189]>, <gurobi.Var x[3,190]>, <gurobi.Var x[3,191]>, <gurobi.Var x[3,192]>, <gurobi.Var x[3,193]>, <gurobi.Var x[3,194]>, <gurobi.Var x[3,195]>, <gurobi.Var x[3,196]>, <gurobi.Var x[3,197]>, <gurobi.Var x[3,198]>, <gurobi.Var x[3,199]>, <gurobi.Var x[4,0]>, <gurobi.Var x[4,1]>, <gurobi.Var x[4,2]>, <gurobi.Var x[4,3]>, <gurobi.Var x[4,4]>, <gurobi.Var x[4,5]>, <gurobi.Var x[4,6]>, <gurobi.Var x[4,7]>, <gurobi.Var x[4,8]>, <gurobi.Var x[4,9]>, <gurobi.Var x[4,10]>, <gurobi.Var x[4,11]>, <gurobi.Var x[4,12]>, <gurobi.Var x[4,13]>, <gurobi.Var x[4,14]>, <gurobi.Var x[4,15]>, <gurobi.Var x[4,16]>, <gurobi.Var x[4,17]>, <gurobi.Var x[4,18]>, <gurobi.Var x[4,19]>, <gurobi.Var x[4,20]>, <gurobi.Var x[4,21]>, <gurobi.Var x[4,22]>, <gurobi.Var x[4,23]>, <gurobi.Var x[4,24]>, <gurobi.Var x[4,25]>, <gurobi.Var x[4,26]>, <gurobi.Var x[4,27]>, <gurobi.Var x[4,28]>, <gurobi.Var x[4,29]>, <gurobi.Var x[4,30]>, <gurobi.Var x[4,31]>, <gurobi.Var x[4,32]>, <gurobi.Var x[4,33]>, <gurobi.Var x[4,34]>, <gurobi.Var x[4,35]>, <gurobi.Var x[4,36]>, <gurobi.Var x[4,37]>, <gurobi.Var x[4,38]>, <gurobi.Var x[4,39]>, <gurobi.Var x[4,40]>, <gurobi.Var x[4,41]>, <gurobi.Var x[4,42]>, <gurobi.Var x[4,43]>, <gurobi.Var x[4,44]>, <gurobi.Var x[4,45]>, <gurobi.Var x[4,46]>, <gurobi.Var x[4,47]>, <gurobi.Var x[4,48]>, <gurobi.Var x[4,49]>, <gurobi.Var x[4,50]>, <gurobi.Var x[4,51]>, <gurobi.Var x[4,52]>, <gurobi.Var x[4,53]>, <gurobi.Var x[4,54]>, <gurobi.Var x[4,55]>, <gurobi.Var x[4,56]>, <gurobi.Var x[4,57]>, <gurobi.Var x[4,58]>, <gurobi.Var x[4,59]>, <gurobi.Var x[4,60]>, <gurobi.Var x[4,61]>, <gurobi.Var x[4,62]>, <gurobi.Var x[4,63]>, <gurobi.Var x[4,64]>, <gurobi.Var x[4,65]>, <gurobi.Var x[4,66]>, <gurobi.Var x[4,67]>, <gurobi.Var x[4,68]>, <gurobi.Var x[4,69]>, <gurobi.Var x[4,70]>, <gurobi.Var x[4,71]>, <gurobi.Var x[4,72]>, <gurobi.Var x[4,73]>, <gurobi.Var x[4,74]>, <gurobi.Var x[4,75]>, <gurobi.Var x[4,76]>, <gurobi.Var x[4,77]>, <gurobi.Var x[4,78]>, <gurobi.Var x[4,79]>, <gurobi.Var x[4,80]>, <gurobi.Var x[4,81]>, <gurobi.Var x[4,82]>, <gurobi.Var x[4,83]>, <gurobi.Var x[4,84]>, <gurobi.Var x[4,85]>, <gurobi.Var x[4,86]>, <gurobi.Var x[4,87]>, <gurobi.Var x[4,88]>, <gurobi.Var x[4,89]>, <gurobi.Var x[4,90]>, <gurobi.Var x[4,91]>, <gurobi.Var x[4,92]>, <gurobi.Var x[4,93]>, <gurobi.Var x[4,94]>, <gurobi.Var x[4,95]>, <gurobi.Var x[4,96]>, <gurobi.Var x[4,97]>, <gurobi.Var x[4,98]>, <gurobi.Var x[4,99]>, <gurobi.Var x[4,100]>, <gurobi.Var x[4,101]>, <gurobi.Var x[4,102]>, <gurobi.Var x[4,103]>, <gurobi.Var x[4,104]>, <gurobi.Var x[4,105]>, <gurobi.Var x[4,106]>, <gurobi.Var x[4,107]>, <gurobi.Var x[4,108]>, <gurobi.Var x[4,109]>, <gurobi.Var x[4,110]>, <gurobi.Var x[4,111]>, <gurobi.Var x[4,112]>, <gurobi.Var x[4,113]>, <gurobi.Var x[4,114]>, <gurobi.Var x[4,115]>, <gurobi.Var x[4,116]>, <gurobi.Var x[4,117]>, <gurobi.Var x[4,118]>, <gurobi.Var x[4,119]>, <gurobi.Var x[4,120]>, <gurobi.Var x[4,121]>, <gurobi.Var x[4,122]>, <gurobi.Var x[4,123]>, <gurobi.Var x[4,124]>, <gurobi.Var x[4,125]>, <gurobi.Var x[4,126]>, <gurobi.Var x[4,127]>, <gurobi.Var x[4,128]>, <gurobi.Var x[4,129]>, <gurobi.Var x[4,130]>, <gurobi.Var x[4,131]>, <gurobi.Var x[4,132]>, <gurobi.Var x[4,133]>, <gurobi.Var x[4,134]>, <gurobi.Var x[4,135]>, <gurobi.Var x[4,136]>, <gurobi.Var x[4,137]>, <gurobi.Var x[4,138]>, <gurobi.Var x[4,139]>, <gurobi.Var x[4,140]>, <gurobi.Var x[4,141]>, <gurobi.Var x[4,142]>, <gurobi.Var x[4,143]>, <gurobi.Var x[4,144]>, <gurobi.Var x[4,145]>, <gurobi.Var x[4,146]>, <gurobi.Var x[4,147]>, <gurobi.Var x[4,148]>, <gurobi.Var x[4,149]>, <gurobi.Var x[4,150]>, <gurobi.Var x[4,151]>, <gurobi.Var x[4,152]>, <gurobi.Var x[4,153]>, <gurobi.Var x[4,154]>, <gurobi.Var x[4,155]>, <gurobi.Var x[4,156]>, <gurobi.Var x[4,157]>, <gurobi.Var x[4,158]>, <gurobi.Var x[4,159]>, <gurobi.Var x[4,160]>, <gurobi.Var x[4,161]>, <gurobi.Var x[4,162]>, <gurobi.Var x[4,163]>, <gurobi.Var x[4,164]>, <gurobi.Var x[4,165]>, <gurobi.Var x[4,166]>, <gurobi.Var x[4,167]>, <gurobi.Var x[4,168]>, <gurobi.Var x[4,169]>, <gurobi.Var x[4,170]>, <gurobi.Var x[4,171]>, <gurobi.Var x[4,172]>, <gurobi.Var x[4,173]>, <gurobi.Var x[4,174]>, <gurobi.Var x[4,175]>, <gurobi.Var x[4,176]>, <gurobi.Var x[4,177]>, <gurobi.Var x[4,178]>, <gurobi.Var x[4,179]>, <gurobi.Var x[4,180]>, <gurobi.Var x[4,181]>, <gurobi.Var x[4,182]>, <gurobi.Var x[4,183]>, <gurobi.Var x[4,184]>, <gurobi.Var x[4,185]>, <gurobi.Var x[4,186]>, <gurobi.Var x[4,187]>, <gurobi.Var x[4,188]>, <gurobi.Var x[4,189]>, <gurobi.Var x[4,190]>, <gurobi.Var x[4,191]>, <gurobi.Var x[4,192]>, <gurobi.Var x[4,193]>, <gurobi.Var x[4,194]>, <gurobi.Var x[4,195]>, <gurobi.Var x[4,196]>, <gurobi.Var x[4,197]>, <gurobi.Var x[4,198]>, <gurobi.Var x[4,199]>, <gurobi.Var x[5,0]>, <gurobi.Var x[5,1]>, <gurobi.Var x[5,2]>, <gurobi.Var x[5,3]>, <gurobi.Var x[5,4]>, <gurobi.Var x[5,5]>, <gurobi.Var x[5,6]>, <gurobi.Var x[5,7]>, <gurobi.Var x[5,8]>, <gurobi.Var x[5,9]>, <gurobi.Var x[5,10]>, <gurobi.Var x[5,11]>, <gurobi.Var x[5,12]>, <gurobi.Var x[5,13]>, <gurobi.Var x[5,14]>, <gurobi.Var x[5,15]>, <gurobi.Var x[5,16]>, <gurobi.Var x[5,17]>, <gurobi.Var x[5,18]>, <gurobi.Var x[5,19]>, <gurobi.Var x[5,20]>, <gurobi.Var x[5,21]>, <gurobi.Var x[5,22]>, <gurobi.Var x[5,23]>, <gurobi.Var x[5,24]>, <gurobi.Var x[5,25]>, <gurobi.Var x[5,26]>, <gurobi.Var x[5,27]>, <gurobi.Var x[5,28]>, <gurobi.Var x[5,29]>, <gurobi.Var x[5,30]>, <gurobi.Var x[5,31]>, <gurobi.Var x[5,32]>, <gurobi.Var x[5,33]>, <gurobi.Var x[5,34]>, <gurobi.Var x[5,35]>, <gurobi.Var x[5,36]>, <gurobi.Var x[5,37]>, <gurobi.Var x[5,38]>, <gurobi.Var x[5,39]>, <gurobi.Var x[5,40]>, <gurobi.Var x[5,41]>, <gurobi.Var x[5,42]>, <gurobi.Var x[5,43]>, <gurobi.Var x[5,44]>, <gurobi.Var x[5,45]>, <gurobi.Var x[5,46]>, <gurobi.Var x[5,47]>, <gurobi.Var x[5,48]>, <gurobi.Var x[5,49]>, <gurobi.Var x[5,50]>, <gurobi.Var x[5,51]>, <gurobi.Var x[5,52]>, <gurobi.Var x[5,53]>, <gurobi.Var x[5,54]>, <gurobi.Var x[5,55]>, <gurobi.Var x[5,56]>, <gurobi.Var x[5,57]>, <gurobi.Var x[5,58]>, <gurobi.Var x[5,59]>, <gurobi.Var x[5,60]>, <gurobi.Var x[5,61]>, <gurobi.Var x[5,62]>, <gurobi.Var x[5,63]>, <gurobi.Var x[5,64]>, <gurobi.Var x[5,65]>, <gurobi.Var x[5,66]>, <gurobi.Var x[5,67]>, <gurobi.Var x[5,68]>, <gurobi.Var x[5,69]>, <gurobi.Var x[5,70]>, <gurobi.Var x[5,71]>, <gurobi.Var x[5,72]>, <gurobi.Var x[5,73]>, <gurobi.Var x[5,74]>, <gurobi.Var x[5,75]>, <gurobi.Var x[5,76]>, <gurobi.Var x[5,77]>, <gurobi.Var x[5,78]>, <gurobi.Var x[5,79]>, <gurobi.Var x[5,80]>, <gurobi.Var x[5,81]>, <gurobi.Var x[5,82]>, <gurobi.Var x[5,83]>, <gurobi.Var x[5,84]>, <gurobi.Var x[5,85]>, <gurobi.Var x[5,86]>, <gurobi.Var x[5,87]>, <gurobi.Var x[5,88]>, <gurobi.Var x[5,89]>, <gurobi.Var x[5,90]>, <gurobi.Var x[5,91]>, <gurobi.Var x[5,92]>, <gurobi.Var x[5,93]>, <gurobi.Var x[5,94]>, <gurobi.Var x[5,95]>, <gurobi.Var x[5,96]>, <gurobi.Var x[5,97]>, <gurobi.Var x[5,98]>, <gurobi.Var x[5,99]>, <gurobi.Var x[5,100]>, <gurobi.Var x[5,101]>, <gurobi.Var x[5,102]>, <gurobi.Var x[5,103]>, <gurobi.Var x[5,104]>, <gurobi.Var x[5,105]>, <gurobi.Var x[5,106]>, <gurobi.Var x[5,107]>, <gurobi.Var x[5,108]>, <gurobi.Var x[5,109]>, <gurobi.Var x[5,110]>, <gurobi.Var x[5,111]>, <gurobi.Var x[5,112]>, <gurobi.Var x[5,113]>, <gurobi.Var x[5,114]>, <gurobi.Var x[5,115]>, <gurobi.Var x[5,116]>, <gurobi.Var x[5,117]>, <gurobi.Var x[5,118]>, <gurobi.Var x[5,119]>, <gurobi.Var x[5,120]>, <gurobi.Var x[5,121]>, <gurobi.Var x[5,122]>, <gurobi.Var x[5,123]>, <gurobi.Var x[5,124]>, <gurobi.Var x[5,125]>, <gurobi.Var x[5,126]>, <gurobi.Var x[5,127]>, <gurobi.Var x[5,128]>, <gurobi.Var x[5,129]>, <gurobi.Var x[5,130]>, <gurobi.Var x[5,131]>, <gurobi.Var x[5,132]>, <gurobi.Var x[5,133]>, <gurobi.Var x[5,134]>, <gurobi.Var x[5,135]>, <gurobi.Var x[5,136]>, <gurobi.Var x[5,137]>, <gurobi.Var x[5,138]>, <gurobi.Var x[5,139]>, <gurobi.Var x[5,140]>, <gurobi.Var x[5,141]>, <gurobi.Var x[5,142]>, <gurobi.Var x[5,143]>, <gurobi.Var x[5,144]>, <gurobi.Var x[5,145]>, <gurobi.Var x[5,146]>, <gurobi.Var x[5,147]>, <gurobi.Var x[5,148]>, <gurobi.Var x[5,149]>, <gurobi.Var x[5,150]>, <gurobi.Var x[5,151]>, <gurobi.Var x[5,152]>, <gurobi.Var x[5,153]>, <gurobi.Var x[5,154]>, <gurobi.Var x[5,155]>, <gurobi.Var x[5,156]>, <gurobi.Var x[5,157]>, <gurobi.Var x[5,158]>, <gurobi.Var x[5,159]>, <gurobi.Var x[5,160]>, <gurobi.Var x[5,161]>, <gurobi.Var x[5,162]>, <gurobi.Var x[5,163]>, <gurobi.Var x[5,164]>, <gurobi.Var x[5,165]>, <gurobi.Var x[5,166]>, <gurobi.Var x[5,167]>, <gurobi.Var x[5,168]>, <gurobi.Var x[5,169]>, <gurobi.Var x[5,170]>, <gurobi.Var x[5,171]>, <gurobi.Var x[5,172]>, <gurobi.Var x[5,173]>, <gurobi.Var x[5,174]>, <gurobi.Var x[5,175]>, <gurobi.Var x[5,176]>, <gurobi.Var x[5,177]>, <gurobi.Var x[5,178]>, <gurobi.Var x[5,179]>, <gurobi.Var x[5,180]>, <gurobi.Var x[5,181]>, <gurobi.Var x[5,182]>, <gurobi.Var x[5,183]>, <gurobi.Var x[5,184]>, <gurobi.Var x[5,185]>, <gurobi.Var x[5,186]>, <gurobi.Var x[5,187]>, <gurobi.Var x[5,188]>, <gurobi.Var x[5,189]>, <gurobi.Var x[5,190]>, <gurobi.Var x[5,191]>, <gurobi.Var x[5,192]>, <gurobi.Var x[5,193]>, <gurobi.Var x[5,194]>, <gurobi.Var x[5,195]>, <gurobi.Var x[5,196]>, <gurobi.Var x[5,197]>, <gurobi.Var x[5,198]>, <gurobi.Var x[5,199]>, <gurobi.Var x[6,0]>, <gurobi.Var x[6,1]>, <gurobi.Var x[6,2]>, <gurobi.Var x[6,3]>, <gurobi.Var x[6,4]>, <gurobi.Var x[6,5]>, <gurobi.Var x[6,6]>, <gurobi.Var x[6,7]>, <gurobi.Var x[6,8]>, <gurobi.Var x[6,9]>, <gurobi.Var x[6,10]>, <gurobi.Var x[6,11]>, <gurobi.Var x[6,12]>, <gurobi.Var x[6,13]>, <gurobi.Var x[6,14]>, <gurobi.Var x[6,15]>, <gurobi.Var x[6,16]>, <gurobi.Var x[6,17]>, <gurobi.Var x[6,18]>, <gurobi.Var x[6,19]>, <gurobi.Var x[6,20]>, <gurobi.Var x[6,21]>, <gurobi.Var x[6,22]>, <gurobi.Var x[6,23]>, <gurobi.Var x[6,24]>, <gurobi.Var x[6,25]>, <gurobi.Var x[6,26]>, <gurobi.Var x[6,27]>, <gurobi.Var x[6,28]>, <gurobi.Var x[6,29]>, <gurobi.Var x[6,30]>, <gurobi.Var x[6,31]>, <gurobi.Var x[6,32]>, <gurobi.Var x[6,33]>, <gurobi.Var x[6,34]>, <gurobi.Var x[6,35]>, <gurobi.Var x[6,36]>, <gurobi.Var x[6,37]>, <gurobi.Var x[6,38]>, <gurobi.Var x[6,39]>, <gurobi.Var x[6,40]>, <gurobi.Var x[6,41]>, <gurobi.Var x[6,42]>, <gurobi.Var x[6,43]>, <gurobi.Var x[6,44]>, <gurobi.Var x[6,45]>, <gurobi.Var x[6,46]>, <gurobi.Var x[6,47]>, <gurobi.Var x[6,48]>, <gurobi.Var x[6,49]>, <gurobi.Var x[6,50]>, <gurobi.Var x[6,51]>, <gurobi.Var x[6,52]>, <gurobi.Var x[6,53]>, <gurobi.Var x[6,54]>, <gurobi.Var x[6,55]>, <gurobi.Var x[6,56]>, <gurobi.Var x[6,57]>, <gurobi.Var x[6,58]>, <gurobi.Var x[6,59]>, <gurobi.Var x[6,60]>, <gurobi.Var x[6,61]>, <gurobi.Var x[6,62]>, <gurobi.Var x[6,63]>, <gurobi.Var x[6,64]>, <gurobi.Var x[6,65]>, <gurobi.Var x[6,66]>, <gurobi.Var x[6,67]>, <gurobi.Var x[6,68]>, <gurobi.Var x[6,69]>, <gurobi.Var x[6,70]>, <gurobi.Var x[6,71]>, <gurobi.Var x[6,72]>, <gurobi.Var x[6,73]>, <gurobi.Var x[6,74]>, <gurobi.Var x[6,75]>, <gurobi.Var x[6,76]>, <gurobi.Var x[6,77]>, <gurobi.Var x[6,78]>, <gurobi.Var x[6,79]>, <gurobi.Var x[6,80]>, <gurobi.Var x[6,81]>, <gurobi.Var x[6,82]>, <gurobi.Var x[6,83]>, <gurobi.Var x[6,84]>, <gurobi.Var x[6,85]>, <gurobi.Var x[6,86]>, <gurobi.Var x[6,87]>, <gurobi.Var x[6,88]>, <gurobi.Var x[6,89]>, <gurobi.Var x[6,90]>, <gurobi.Var x[6,91]>, <gurobi.Var x[6,92]>, <gurobi.Var x[6,93]>, <gurobi.Var x[6,94]>, <gurobi.Var x[6,95]>, <gurobi.Var x[6,96]>, <gurobi.Var x[6,97]>, <gurobi.Var x[6,98]>, <gurobi.Var x[6,99]>, <gurobi.Var x[6,100]>, <gurobi.Var x[6,101]>, <gurobi.Var x[6,102]>, <gurobi.Var x[6,103]>, <gurobi.Var x[6,104]>, <gurobi.Var x[6,105]>, <gurobi.Var x[6,106]>, <gurobi.Var x[6,107]>, <gurobi.Var x[6,108]>, <gurobi.Var x[6,109]>, <gurobi.Var x[6,110]>, <gurobi.Var x[6,111]>, <gurobi.Var x[6,112]>, <gurobi.Var x[6,113]>, <gurobi.Var x[6,114]>, <gurobi.Var x[6,115]>, <gurobi.Var x[6,116]>, <gurobi.Var x[6,117]>, <gurobi.Var x[6,118]>, <gurobi.Var x[6,119]>, <gurobi.Var x[6,120]>, <gurobi.Var x[6,121]>, <gurobi.Var x[6,122]>, <gurobi.Var x[6,123]>, <gurobi.Var x[6,124]>, <gurobi.Var x[6,125]>, <gurobi.Var x[6,126]>, <gurobi.Var x[6,127]>, <gurobi.Var x[6,128]>, <gurobi.Var x[6,129]>, <gurobi.Var x[6,130]>, <gurobi.Var x[6,131]>, <gurobi.Var x[6,132]>, <gurobi.Var x[6,133]>, <gurobi.Var x[6,134]>, <gurobi.Var x[6,135]>, <gurobi.Var x[6,136]>, <gurobi.Var x[6,137]>, <gurobi.Var x[6,138]>, <gurobi.Var x[6,139]>, <gurobi.Var x[6,140]>, <gurobi.Var x[6,141]>, <gurobi.Var x[6,142]>, <gurobi.Var x[6,143]>, <gurobi.Var x[6,144]>, <gurobi.Var x[6,145]>, <gurobi.Var x[6,146]>, <gurobi.Var x[6,147]>, <gurobi.Var x[6,148]>, <gurobi.Var x[6,149]>, <gurobi.Var x[6,150]>, <gurobi.Var x[6,151]>, <gurobi.Var x[6,152]>, <gurobi.Var x[6,153]>, <gurobi.Var x[6,154]>, <gurobi.Var x[6,155]>, <gurobi.Var x[6,156]>, <gurobi.Var x[6,157]>, <gurobi.Var x[6,158]>, <gurobi.Var x[6,159]>, <gurobi.Var x[6,160]>, <gurobi.Var x[6,161]>, <gurobi.Var x[6,162]>, <gurobi.Var x[6,163]>, <gurobi.Var x[6,164]>, <gurobi.Var x[6,165]>, <gurobi.Var x[6,166]>, <gurobi.Var x[6,167]>, <gurobi.Var x[6,168]>, <gurobi.Var x[6,169]>, <gurobi.Var x[6,170]>, <gurobi.Var x[6,171]>, <gurobi.Var x[6,172]>, <gurobi.Var x[6,173]>, <gurobi.Var x[6,174]>, <gurobi.Var x[6,175]>, <gurobi.Var x[6,176]>, <gurobi.Var x[6,177]>, <gurobi.Var x[6,178]>, <gurobi.Var x[6,179]>, <gurobi.Var x[6,180]>, <gurobi.Var x[6,181]>, <gurobi.Var x[6,182]>, <gurobi.Var x[6,183]>, <gurobi.Var x[6,184]>, <gurobi.Var x[6,185]>, <gurobi.Var x[6,186]>, <gurobi.Var x[6,187]>, <gurobi.Var x[6,188]>, <gurobi.Var x[6,189]>, <gurobi.Var x[6,190]>, <gurobi.Var x[6,191]>, <gurobi.Var x[6,192]>, <gurobi.Var x[6,193]>, <gurobi.Var x[6,194]>, <gurobi.Var x[6,195]>, <gurobi.Var x[6,196]>, <gurobi.Var x[6,197]>, <gurobi.Var x[6,198]>, <gurobi.Var x[6,199]>, <gurobi.Var x[7,0]>, <gurobi.Var x[7,1]>, <gurobi.Var x[7,2]>, <gurobi.Var x[7,3]>, <gurobi.Var x[7,4]>, <gurobi.Var x[7,5]>, <gurobi.Var x[7,6]>, <gurobi.Var x[7,7]>, <gurobi.Var x[7,8]>, <gurobi.Var x[7,9]>, <gurobi.Var x[7,10]>, <gurobi.Var x[7,11]>, <gurobi.Var x[7,12]>, <gurobi.Var x[7,13]>, <gurobi.Var x[7,14]>, <gurobi.Var x[7,15]>, <gurobi.Var x[7,16]>, <gurobi.Var x[7,17]>, <gurobi.Var x[7,18]>, <gurobi.Var x[7,19]>, <gurobi.Var x[7,20]>, <gurobi.Var x[7,21]>, <gurobi.Var x[7,22]>, <gurobi.Var x[7,23]>, <gurobi.Var x[7,24]>, <gurobi.Var x[7,25]>, <gurobi.Var x[7,26]>, <gurobi.Var x[7,27]>, <gurobi.Var x[7,28]>, <gurobi.Var x[7,29]>, <gurobi.Var x[7,30]>, <gurobi.Var x[7,31]>, <gurobi.Var x[7,32]>, <gurobi.Var x[7,33]>, <gurobi.Var x[7,34]>, <gurobi.Var x[7,35]>, <gurobi.Var x[7,36]>, <gurobi.Var x[7,37]>, <gurobi.Var x[7,38]>, <gurobi.Var x[7,39]>, <gurobi.Var x[7,40]>, <gurobi.Var x[7,41]>, <gurobi.Var x[7,42]>, <gurobi.Var x[7,43]>, <gurobi.Var x[7,44]>, <gurobi.Var x[7,45]>, <gurobi.Var x[7,46]>, <gurobi.Var x[7,47]>, <gurobi.Var x[7,48]>, <gurobi.Var x[7,49]>, <gurobi.Var x[7,50]>, <gurobi.Var x[7,51]>, <gurobi.Var x[7,52]>, <gurobi.Var x[7,53]>, <gurobi.Var x[7,54]>, <gurobi.Var x[7,55]>, <gurobi.Var x[7,56]>, <gurobi.Var x[7,57]>, <gurobi.Var x[7,58]>, <gurobi.Var x[7,59]>, <gurobi.Var x[7,60]>, <gurobi.Var x[7,61]>, <gurobi.Var x[7,62]>, <gurobi.Var x[7,63]>, <gurobi.Var x[7,64]>, <gurobi.Var x[7,65]>, <gurobi.Var x[7,66]>, <gurobi.Var x[7,67]>, <gurobi.Var x[7,68]>, <gurobi.Var x[7,69]>, <gurobi.Var x[7,70]>, <gurobi.Var x[7,71]>, <gurobi.Var x[7,72]>, <gurobi.Var x[7,73]>, <gurobi.Var x[7,74]>, <gurobi.Var x[7,75]>, <gurobi.Var x[7,76]>, <gurobi.Var x[7,77]>, <gurobi.Var x[7,78]>, <gurobi.Var x[7,79]>, <gurobi.Var x[7,80]>, <gurobi.Var x[7,81]>, <gurobi.Var x[7,82]>, <gurobi.Var x[7,83]>, <gurobi.Var x[7,84]>, <gurobi.Var x[7,85]>, <gurobi.Var x[7,86]>, <gurobi.Var x[7,87]>, <gurobi.Var x[7,88]>, <gurobi.Var x[7,89]>, <gurobi.Var x[7,90]>, <gurobi.Var x[7,91]>, <gurobi.Var x[7,92]>, <gurobi.Var x[7,93]>, <gurobi.Var x[7,94]>, <gurobi.Var x[7,95]>, <gurobi.Var x[7,96]>, <gurobi.Var x[7,97]>, <gurobi.Var x[7,98]>, <gurobi.Var x[7,99]>, <gurobi.Var x[7,100]>, <gurobi.Var x[7,101]>, <gurobi.Var x[7,102]>, <gurobi.Var x[7,103]>, <gurobi.Var x[7,104]>, <gurobi.Var x[7,105]>, <gurobi.Var x[7,106]>, <gurobi.Var x[7,107]>, <gurobi.Var x[7,108]>, <gurobi.Var x[7,109]>, <gurobi.Var x[7,110]>, <gurobi.Var x[7,111]>, <gurobi.Var x[7,112]>, <gurobi.Var x[7,113]>, <gurobi.Var x[7,114]>, <gurobi.Var x[7,115]>, <gurobi.Var x[7,116]>, <gurobi.Var x[7,117]>, <gurobi.Var x[7,118]>, <gurobi.Var x[7,119]>, <gurobi.Var x[7,120]>, <gurobi.Var x[7,121]>, <gurobi.Var x[7,122]>, <gurobi.Var x[7,123]>, <gurobi.Var x[7,124]>, <gurobi.Var x[7,125]>, <gurobi.Var x[7,126]>, <gurobi.Var x[7,127]>, <gurobi.Var x[7,128]>, <gurobi.Var x[7,129]>, <gurobi.Var x[7,130]>, <gurobi.Var x[7,131]>, <gurobi.Var x[7,132]>, <gurobi.Var x[7,133]>, <gurobi.Var x[7,134]>, <gurobi.Var x[7,135]>, <gurobi.Var x[7,136]>, <gurobi.Var x[7,137]>, <gurobi.Var x[7,138]>, <gurobi.Var x[7,139]>, <gurobi.Var x[7,140]>, <gurobi.Var x[7,141]>, <gurobi.Var x[7,142]>, <gurobi.Var x[7,143]>, <gurobi.Var x[7,144]>, <gurobi.Var x[7,145]>, <gurobi.Var x[7,146]>, <gurobi.Var x[7,147]>, <gurobi.Var x[7,148]>, <gurobi.Var x[7,149]>, <gurobi.Var x[7,150]>, <gurobi.Var x[7,151]>, <gurobi.Var x[7,152]>, <gurobi.Var x[7,153]>, <gurobi.Var x[7,154]>, <gurobi.Var x[7,155]>, <gurobi.Var x[7,156]>, <gurobi.Var x[7,157]>, <gurobi.Var x[7,158]>, <gurobi.Var x[7,159]>, <gurobi.Var x[7,160]>, <gurobi.Var x[7,161]>, <gurobi.Var x[7,162]>, <gurobi.Var x[7,163]>, <gurobi.Var x[7,164]>, <gurobi.Var x[7,165]>, <gurobi.Var x[7,166]>, <gurobi.Var x[7,167]>, <gurobi.Var x[7,168]>, <gurobi.Var x[7,169]>, <gurobi.Var x[7,170]>, <gurobi.Var x[7,171]>, <gurobi.Var x[7,172]>, <gurobi.Var x[7,173]>, <gurobi.Var x[7,174]>, <gurobi.Var x[7,175]>, <gurobi.Var x[7,176]>, <gurobi.Var x[7,177]>, <gurobi.Var x[7,178]>, <gurobi.Var x[7,179]>, <gurobi.Var x[7,180]>, <gurobi.Var x[7,181]>, <gurobi.Var x[7,182]>, <gurobi.Var x[7,183]>, <gurobi.Var x[7,184]>, <gurobi.Var x[7,185]>, <gurobi.Var x[7,186]>, <gurobi.Var x[7,187]>, <gurobi.Var x[7,188]>, <gurobi.Var x[7,189]>, <gurobi.Var x[7,190]>, <gurobi.Var x[7,191]>, <gurobi.Var x[7,192]>, <gurobi.Var x[7,193]>, <gurobi.Var x[7,194]>, <gurobi.Var x[7,195]>, <gurobi.Var x[7,196]>, <gurobi.Var x[7,197]>, <gurobi.Var x[7,198]>, <gurobi.Var x[7,199]>, <gurobi.Var x[8,0]>, <gurobi.Var x[8,1]>, <gurobi.Var x[8,2]>, <gurobi.Var x[8,3]>, <gurobi.Var x[8,4]>, <gurobi.Var x[8,5]>, <gurobi.Var x[8,6]>, <gurobi.Var x[8,7]>, <gurobi.Var x[8,8]>, <gurobi.Var x[8,9]>, <gurobi.Var x[8,10]>, <gurobi.Var x[8,11]>, <gurobi.Var x[8,12]>, <gurobi.Var x[8,13]>, <gurobi.Var x[8,14]>, <gurobi.Var x[8,15]>, <gurobi.Var x[8,16]>, <gurobi.Var x[8,17]>, <gurobi.Var x[8,18]>, <gurobi.Var x[8,19]>, <gurobi.Var x[8,20]>, <gurobi.Var x[8,21]>, <gurobi.Var x[8,22]>, <gurobi.Var x[8,23]>, <gurobi.Var x[8,24]>, <gurobi.Var x[8,25]>, <gurobi.Var x[8,26]>, <gurobi.Var x[8,27]>, <gurobi.Var x[8,28]>, <gurobi.Var x[8,29]>, <gurobi.Var x[8,30]>, <gurobi.Var x[8,31]>, <gurobi.Var x[8,32]>, <gurobi.Var x[8,33]>, <gurobi.Var x[8,34]>, <gurobi.Var x[8,35]>, <gurobi.Var x[8,36]>, <gurobi.Var x[8,37]>, <gurobi.Var x[8,38]>, <gurobi.Var x[8,39]>, <gurobi.Var x[8,40]>, <gurobi.Var x[8,41]>, <gurobi.Var x[8,42]>, <gurobi.Var x[8,43]>, <gurobi.Var x[8,44]>, <gurobi.Var x[8,45]>, <gurobi.Var x[8,46]>, <gurobi.Var x[8,47]>, <gurobi.Var x[8,48]>, <gurobi.Var x[8,49]>, <gurobi.Var x[8,50]>, <gurobi.Var x[8,51]>, <gurobi.Var x[8,52]>, <gurobi.Var x[8,53]>, <gurobi.Var x[8,54]>, <gurobi.Var x[8,55]>, <gurobi.Var x[8,56]>, <gurobi.Var x[8,57]>, <gurobi.Var x[8,58]>, <gurobi.Var x[8,59]>, <gurobi.Var x[8,60]>, <gurobi.Var x[8,61]>, <gurobi.Var x[8,62]>, <gurobi.Var x[8,63]>, <gurobi.Var x[8,64]>, <gurobi.Var x[8,65]>, <gurobi.Var x[8,66]>, <gurobi.Var x[8,67]>, <gurobi.Var x[8,68]>, <gurobi.Var x[8,69]>, <gurobi.Var x[8,70]>, <gurobi.Var x[8,71]>, <gurobi.Var x[8,72]>, <gurobi.Var x[8,73]>, <gurobi.Var x[8,74]>, <gurobi.Var x[8,75]>, <gurobi.Var x[8,76]>, <gurobi.Var x[8,77]>, <gurobi.Var x[8,78]>, <gurobi.Var x[8,79]>, <gurobi.Var x[8,80]>, <gurobi.Var x[8,81]>, <gurobi.Var x[8,82]>, <gurobi.Var x[8,83]>, <gurobi.Var x[8,84]>, <gurobi.Var x[8,85]>, <gurobi.Var x[8,86]>, <gurobi.Var x[8,87]>, <gurobi.Var x[8,88]>, <gurobi.Var x[8,89]>, <gurobi.Var x[8,90]>, <gurobi.Var x[8,91]>, <gurobi.Var x[8,92]>, <gurobi.Var x[8,93]>, <gurobi.Var x[8,94]>, <gurobi.Var x[8,95]>, <gurobi.Var x[8,96]>, <gurobi.Var x[8,97]>, <gurobi.Var x[8,98]>, <gurobi.Var x[8,99]>, <gurobi.Var x[8,100]>, <gurobi.Var x[8,101]>, <gurobi.Var x[8,102]>, <gurobi.Var x[8,103]>, <gurobi.Var x[8,104]>, <gurobi.Var x[8,105]>, <gurobi.Var x[8,106]>, <gurobi.Var x[8,107]>, <gurobi.Var x[8,108]>, <gurobi.Var x[8,109]>, <gurobi.Var x[8,110]>, <gurobi.Var x[8,111]>, <gurobi.Var x[8,112]>, <gurobi.Var x[8,113]>, <gurobi.Var x[8,114]>, <gurobi.Var x[8,115]>, <gurobi.Var x[8,116]>, <gurobi.Var x[8,117]>, <gurobi.Var x[8,118]>, <gurobi.Var x[8,119]>, <gurobi.Var x[8,120]>, <gurobi.Var x[8,121]>, <gurobi.Var x[8,122]>, <gurobi.Var x[8,123]>, <gurobi.Var x[8,124]>, <gurobi.Var x[8,125]>, <gurobi.Var x[8,126]>, <gurobi.Var x[8,127]>, <gurobi.Var x[8,128]>, <gurobi.Var x[8,129]>, <gurobi.Var x[8,130]>, <gurobi.Var x[8,131]>, <gurobi.Var x[8,132]>, <gurobi.Var x[8,133]>, <gurobi.Var x[8,134]>, <gurobi.Var x[8,135]>, <gurobi.Var x[8,136]>, <gurobi.Var x[8,137]>, <gurobi.Var x[8,138]>, <gurobi.Var x[8,139]>, <gurobi.Var x[8,140]>, <gurobi.Var x[8,141]>, <gurobi.Var x[8,142]>, <gurobi.Var x[8,143]>, <gurobi.Var x[8,144]>, <gurobi.Var x[8,145]>, <gurobi.Var x[8,146]>, <gurobi.Var x[8,147]>, <gurobi.Var x[8,148]>, <gurobi.Var x[8,149]>, <gurobi.Var x[8,150]>, <gurobi.Var x[8,151]>, <gurobi.Var x[8,152]>, <gurobi.Var x[8,153]>, <gurobi.Var x[8,154]>, <gurobi.Var x[8,155]>, <gurobi.Var x[8,156]>, <gurobi.Var x[8,157]>, <gurobi.Var x[8,158]>, <gurobi.Var x[8,159]>, <gurobi.Var x[8,160]>, <gurobi.Var x[8,161]>, <gurobi.Var x[8,162]>, <gurobi.Var x[8,163]>, <gurobi.Var x[8,164]>, <gurobi.Var x[8,165]>, <gurobi.Var x[8,166]>, <gurobi.Var x[8,167]>, <gurobi.Var x[8,168]>, <gurobi.Var x[8,169]>, <gurobi.Var x[8,170]>, <gurobi.Var x[8,171]>, <gurobi.Var x[8,172]>, <gurobi.Var x[8,173]>, <gurobi.Var x[8,174]>, <gurobi.Var x[8,175]>, <gurobi.Var x[8,176]>, <gurobi.Var x[8,177]>, <gurobi.Var x[8,178]>, <gurobi.Var x[8,179]>, <gurobi.Var x[8,180]>, <gurobi.Var x[8,181]>, <gurobi.Var x[8,182]>, <gurobi.Var x[8,183]>, <gurobi.Var x[8,184]>, <gurobi.Var x[8,185]>, <gurobi.Var x[8,186]>, <gurobi.Var x[8,187]>, <gurobi.Var x[8,188]>, <gurobi.Var x[8,189]>, <gurobi.Var x[8,190]>, <gurobi.Var x[8,191]>, <gurobi.Var x[8,192]>, <gurobi.Var x[8,193]>, <gurobi.Var x[8,194]>, <gurobi.Var x[8,195]>, <gurobi.Var x[8,196]>, <gurobi.Var x[8,197]>, <gurobi.Var x[8,198]>, <gurobi.Var x[8,199]>, <gurobi.Var x[9,0]>, <gurobi.Var x[9,1]>, <gurobi.Var x[9,2]>, <gurobi.Var x[9,3]>, <gurobi.Var x[9,4]>, <gurobi.Var x[9,5]>, <gurobi.Var x[9,6]>, <gurobi.Var x[9,7]>, <gurobi.Var x[9,8]>, <gurobi.Var x[9,9]>, <gurobi.Var x[9,10]>, <gurobi.Var x[9,11]>, <gurobi.Var x[9,12]>, <gurobi.Var x[9,13]>, <gurobi.Var x[9,14]>, <gurobi.Var x[9,15]>, <gurobi.Var x[9,16]>, <gurobi.Var x[9,17]>, <gurobi.Var x[9,18]>, <gurobi.Var x[9,19]>, <gurobi.Var x[9,20]>, <gurobi.Var x[9,21]>, <gurobi.Var x[9,22]>, <gurobi.Var x[9,23]>, <gurobi.Var x[9,24]>, <gurobi.Var x[9,25]>, <gurobi.Var x[9,26]>, <gurobi.Var x[9,27]>, <gurobi.Var x[9,28]>, <gurobi.Var x[9,29]>, <gurobi.Var x[9,30]>, <gurobi.Var x[9,31]>, <gurobi.Var x[9,32]>, <gurobi.Var x[9,33]>, <gurobi.Var x[9,34]>, <gurobi.Var x[9,35]>, <gurobi.Var x[9,36]>, <gurobi.Var x[9,37]>, <gurobi.Var x[9,38]>, <gurobi.Var x[9,39]>, <gurobi.Var x[9,40]>, <gurobi.Var x[9,41]>, <gurobi.Var x[9,42]>, <gurobi.Var x[9,43]>, <gurobi.Var x[9,44]>, <gurobi.Var x[9,45]>, <gurobi.Var x[9,46]>, <gurobi.Var x[9,47]>, <gurobi.Var x[9,48]>, <gurobi.Var x[9,49]>, <gurobi.Var x[9,50]>, <gurobi.Var x[9,51]>, <gurobi.Var x[9,52]>, <gurobi.Var x[9,53]>, <gurobi.Var x[9,54]>, <gurobi.Var x[9,55]>, <gurobi.Var x[9,56]>, <gurobi.Var x[9,57]>, <gurobi.Var x[9,58]>, <gurobi.Var x[9,59]>, <gurobi.Var x[9,60]>, <gurobi.Var x[9,61]>, <gurobi.Var x[9,62]>, <gurobi.Var x[9,63]>, <gurobi.Var x[9,64]>, <gurobi.Var x[9,65]>, <gurobi.Var x[9,66]>, <gurobi.Var x[9,67]>, <gurobi.Var x[9,68]>, <gurobi.Var x[9,69]>, <gurobi.Var x[9,70]>, <gurobi.Var x[9,71]>, <gurobi.Var x[9,72]>, <gurobi.Var x[9,73]>, <gurobi.Var x[9,74]>, <gurobi.Var x[9,75]>, <gurobi.Var x[9,76]>, <gurobi.Var x[9,77]>, <gurobi.Var x[9,78]>, <gurobi.Var x[9,79]>, <gurobi.Var x[9,80]>, <gurobi.Var x[9,81]>, <gurobi.Var x[9,82]>, <gurobi.Var x[9,83]>, <gurobi.Var x[9,84]>, <gurobi.Var x[9,85]>, <gurobi.Var x[9,86]>, <gurobi.Var x[9,87]>, <gurobi.Var x[9,88]>, <gurobi.Var x[9,89]>, <gurobi.Var x[9,90]>, <gurobi.Var x[9,91]>, <gurobi.Var x[9,92]>, <gurobi.Var x[9,93]>, <gurobi.Var x[9,94]>, <gurobi.Var x[9,95]>, <gurobi.Var x[9,96]>, <gurobi.Var x[9,97]>, <gurobi.Var x[9,98]>, <gurobi.Var x[9,99]>, <gurobi.Var x[9,100]>, <gurobi.Var x[9,101]>, <gurobi.Var x[9,102]>, <gurobi.Var x[9,103]>, <gurobi.Var x[9,104]>, <gurobi.Var x[9,105]>, <gurobi.Var x[9,106]>, <gurobi.Var x[9,107]>, <gurobi.Var x[9,108]>, <gurobi.Var x[9,109]>, <gurobi.Var x[9,110]>, <gurobi.Var x[9,111]>, <gurobi.Var x[9,112]>, <gurobi.Var x[9,113]>, <gurobi.Var x[9,114]>, <gurobi.Var x[9,115]>, <gurobi.Var x[9,116]>, <gurobi.Var x[9,117]>, <gurobi.Var x[9,118]>, <gurobi.Var x[9,119]>, <gurobi.Var x[9,120]>, <gurobi.Var x[9,121]>, <gurobi.Var x[9,122]>, <gurobi.Var x[9,123]>, <gurobi.Var x[9,124]>, <gurobi.Var x[9,125]>, <gurobi.Var x[9,126]>, <gurobi.Var x[9,127]>, <gurobi.Var x[9,128]>, <gurobi.Var x[9,129]>, <gurobi.Var x[9,130]>, <gurobi.Var x[9,131]>, <gurobi.Var x[9,132]>, <gurobi.Var x[9,133]>, <gurobi.Var x[9,134]>, <gurobi.Var x[9,135]>, <gurobi.Var x[9,136]>, <gurobi.Var x[9,137]>, <gurobi.Var x[9,138]>, <gurobi.Var x[9,139]>, <gurobi.Var x[9,140]>, <gurobi.Var x[9,141]>, <gurobi.Var x[9,142]>, <gurobi.Var x[9,143]>, <gurobi.Var x[9,144]>, <gurobi.Var x[9,145]>, <gurobi.Var x[9,146]>, <gurobi.Var x[9,147]>, <gurobi.Var x[9,148]>, <gurobi.Var x[9,149]>, <gurobi.Var x[9,150]>, <gurobi.Var x[9,151]>, <gurobi.Var x[9,152]>, <gurobi.Var x[9,153]>, <gurobi.Var x[9,154]>, <gurobi.Var x[9,155]>, <gurobi.Var x[9,156]>, <gurobi.Var x[9,157]>, <gurobi.Var x[9,158]>, <gurobi.Var x[9,159]>, <gurobi.Var x[9,160]>, <gurobi.Var x[9,161]>, <gurobi.Var x[9,162]>, <gurobi.Var x[9,163]>, <gurobi.Var x[9,164]>, <gurobi.Var x[9,165]>, <gurobi.Var x[9,166]>, <gurobi.Var x[9,167]>, <gurobi.Var x[9,168]>, <gurobi.Var x[9,169]>, <gurobi.Var x[9,170]>, <gurobi.Var x[9,171]>, <gurobi.Var x[9,172]>, <gurobi.Var x[9,173]>, <gurobi.Var x[9,174]>, <gurobi.Var x[9,175]>, <gurobi.Var x[9,176]>, <gurobi.Var x[9,177]>, <gurobi.Var x[9,178]>, <gurobi.Var x[9,179]>, <gurobi.Var x[9,180]>, <gurobi.Var x[9,181]>, <gurobi.Var x[9,182]>, <gurobi.Var x[9,183]>, <gurobi.Var x[9,184]>, <gurobi.Var x[9,185]>, <gurobi.Var x[9,186]>, <gurobi.Var x[9,187]>, <gurobi.Var x[9,188]>, <gurobi.Var x[9,189]>, <gurobi.Var x[9,190]>, <gurobi.Var x[9,191]>, <gurobi.Var x[9,192]>, <gurobi.Var x[9,193]>, <gurobi.Var x[9,194]>, <gurobi.Var x[9,195]>, <gurobi.Var x[9,196]>, <gurobi.Var x[9,197]>, <gurobi.Var x[9,198]>, <gurobi.Var x[9,199]>, <gurobi.Var chose[0]>, <gurobi.Var chose[1]>, <gurobi.Var chose[2]>, <gurobi.Var chose[3]>, <gurobi.Var chose[4]>, <gurobi.Var chose[5]>, <gurobi.Var chose[6]>, <gurobi.Var chose[7]>, <gurobi.Var chose[8]>, <gurobi.Var chose[9]>]\n"
     ]
    }
   ],
   "source": [
    "model = read(\"./model/2.2.1.mps\")\n",
    "model.write(\"./model/2.2.1/model.lp\")\n",
    "print(f\"Number of vars: {len(model.getVars())}\")\n",
    "print(f\"Number of constraints: {len(model.getConstrs())}\")\n",
    "print(model.getVars())"
   ]
  },
  {
   "cell_type": "markdown",
   "metadata": {},
   "source": [
    "## Read file"
   ]
  },
  {
   "cell_type": "code",
   "execution_count": 4,
   "metadata": {},
   "outputs": [
    {
     "data": {
      "text/plain": [
       "array([[5.21e+00, 8.07e+00, 1.00e+03, 6.80e+02],\n",
       "       [4.40e+00, 7.31e+00, 1.00e+03, 7.00e+02],\n",
       "       [3.26e+00, 6.01e+00, 1.00e+03, 6.80e+02],\n",
       "       [3.02e+00, 5.26e+00, 1.00e+03, 6.10e+02],\n",
       "       [1.07e+00, 3.86e+00, 1.00e+03, 5.40e+02],\n",
       "       [1.52e+00, 2.50e+00, 1.00e+03, 5.00e+02],\n",
       "       [4.92e+00, 1.60e-01, 1.00e+03, 5.90e+02],\n",
       "       [5.07e+00, 1.34e+00, 1.00e+03, 5.80e+02],\n",
       "       [7.85e+00, 4.30e+00, 1.00e+03, 6.00e+02],\n",
       "       [8.12e+00, 4.37e+00, 1.00e+03, 6.00e+02]])"
      ]
     },
     "execution_count": 4,
     "metadata": {},
     "output_type": "execute_result"
    }
   ],
   "source": [
    "f = pd.read_csv(\"./data/2.4/Facility.csv\").iloc[:, 1:].to_numpy()\n",
    "f"
   ]
  },
  {
   "cell_type": "code",
   "execution_count": 5,
   "metadata": {},
   "outputs": [
    {
     "data": {
      "text/plain": [
       "array([[4.13, 5.83, 6.18, ..., 2.21, 2.45, 3.52],\n",
       "       [3.15, 4.78, 5.17, ..., 2.22, 2.1 , 3.13],\n",
       "       [1.78, 3.14, 3.64, ..., 3.02, 2.47, 3.11],\n",
       "       ...,\n",
       "       [3.26, 3.25, 2.55, ..., 4.94, 4.38, 3.46],\n",
       "       [4.23, 5.7 , 5.43, ..., 2.41, 2.54, 1.83],\n",
       "       [4.51, 5.98, 5.71, ..., 2.55, 2.74, 2.08]])"
      ]
     },
     "execution_count": 5,
     "metadata": {},
     "output_type": "execute_result"
    }
   ],
   "source": [
    "t = pd.read_csv(\"./data/2.4/TransCost.csv\", header=None).to_numpy()\n",
    "t"
   ]
  },
  {
   "cell_type": "code",
   "execution_count": 6,
   "metadata": {},
   "outputs": [
    {
     "data": {
      "text/plain": [
       "array([[ 3.616,  4.262, 21.   ],\n",
       "       [ 2.29 ,  3.025, 25.   ],\n",
       "       [ 2.757,  2.403, 29.   ],\n",
       "       [ 2.882,  3.153, 29.   ],\n",
       "       [ 3.552,  3.725, 24.   ],\n",
       "       [ 3.623,  4.158, 18.   ],\n",
       "       [ 2.94 ,  4.729, 13.   ],\n",
       "       [ 2.377,  4.115, 39.   ],\n",
       "       [ 3.617,  3.784, 16.   ],\n",
       "       [ 2.736,  2.716, 10.   ],\n",
       "       [ 4.836,  4.996,  6.   ],\n",
       "       [ 3.287,  4.179, 37.   ],\n",
       "       [ 5.077,  4.778,  8.   ],\n",
       "       [ 2.56 ,  2.246, 16.   ],\n",
       "       [ 2.83 ,  4.729,  6.   ],\n",
       "       [ 2.603,  3.376, 10.   ],\n",
       "       [ 5.336,  3.708, 17.   ],\n",
       "       [ 4.49 ,  3.064, 37.   ],\n",
       "       [ 4.473,  4.6  , 14.   ],\n",
       "       [ 2.348,  4.35 , 37.   ],\n",
       "       [ 5.435,  4.345,  4.   ],\n",
       "       [ 3.182,  4.466, 13.   ],\n",
       "       [ 2.618,  3.456, 13.   ],\n",
       "       [ 5.179,  2.999, 28.   ],\n",
       "       [ 3.205,  2.515, 37.   ],\n",
       "       [ 2.352,  4.139, 15.   ],\n",
       "       [ 2.963,  2.916, 17.   ],\n",
       "       [ 3.853,  2.288, 11.   ],\n",
       "       [ 4.116,  2.564, 33.   ],\n",
       "       [ 4.164,  4.201, 24.   ],\n",
       "       [ 2.615,  3.356,  6.   ],\n",
       "       [ 4.498,  3.356, 24.   ],\n",
       "       [ 2.449,  3.716, 30.   ],\n",
       "       [ 4.401,  3.654,  4.   ],\n",
       "       [ 5.294,  3.866, 19.   ],\n",
       "       [ 5.163,  2.537, 31.   ],\n",
       "       [ 2.733,  4.52 , 39.   ],\n",
       "       [ 3.555,  2.619, 26.   ],\n",
       "       [ 5.239,  3.159,  6.   ],\n",
       "       [ 4.678,  4.279, 16.   ],\n",
       "       [ 5.099,  3.976,  8.   ],\n",
       "       [ 4.678,  3.163, 25.   ],\n",
       "       [ 3.148,  4.782, 11.   ],\n",
       "       [ 3.651,  4.986,  8.   ],\n",
       "       [ 4.4  ,  3.97 , 23.   ],\n",
       "       [ 2.655,  4.94 ,  6.   ],\n",
       "       [ 3.721,  3.842, 32.   ],\n",
       "       [ 3.588,  2.832, 36.   ],\n",
       "       [ 5.163,  3.828, 39.   ],\n",
       "       [ 2.299,  3.957, 14.   ],\n",
       "       [ 3.329,  3.69 , 26.   ],\n",
       "       [ 5.107,  3.188, 26.   ],\n",
       "       [ 5.179,  3.975, 20.   ],\n",
       "       [ 2.34 ,  4.881, 20.   ],\n",
       "       [ 4.487,  5.082,  4.   ],\n",
       "       [ 2.838,  2.536,  6.   ],\n",
       "       [ 5.256,  4.193, 16.   ],\n",
       "       [ 2.5  ,  4.366, 18.   ],\n",
       "       [ 4.687,  4.862,  9.   ],\n",
       "       [ 4.553,  2.498, 20.   ],\n",
       "       [ 2.353,  2.208, 23.   ],\n",
       "       [ 2.38 ,  2.859, 28.   ],\n",
       "       [ 5.025,  3.725, 12.   ],\n",
       "       [ 4.048,  4.622, 18.   ],\n",
       "       [ 2.685,  2.956, 31.   ],\n",
       "       [ 4.153,  5.   , 23.   ],\n",
       "       [ 4.074,  2.185, 27.   ],\n",
       "       [ 4.836,  2.82 , 20.   ],\n",
       "       [ 4.857,  3.278, 32.   ],\n",
       "       [ 5.036,  4.341, 29.   ],\n",
       "       [ 4.059,  2.534, 34.   ],\n",
       "       [ 2.481,  2.489, 10.   ],\n",
       "       [ 2.432,  2.448, 12.   ],\n",
       "       [ 3.008,  4.24 , 18.   ],\n",
       "       [ 4.07 ,  2.167, 20.   ],\n",
       "       [ 2.519,  4.993, 25.   ],\n",
       "       [ 4.097,  2.732, 34.   ],\n",
       "       [ 3.092,  4.332, 19.   ],\n",
       "       [ 2.911,  3.851, 38.   ],\n",
       "       [ 5.375,  4.637, 30.   ],\n",
       "       [ 3.053,  3.592,  8.   ],\n",
       "       [ 4.261,  4.584, 24.   ],\n",
       "       [ 2.789,  2.185, 21.   ],\n",
       "       [ 2.513,  3.57 , 31.   ],\n",
       "       [ 4.218,  3.814, 32.   ],\n",
       "       [ 3.299,  5.056, 11.   ],\n",
       "       [ 4.134,  3.255,  9.   ],\n",
       "       [ 4.042,  4.336, 26.   ],\n",
       "       [ 4.418,  2.914,  4.   ],\n",
       "       [ 2.501,  3.225, 30.   ],\n",
       "       [ 4.293,  2.752, 21.   ],\n",
       "       [ 4.684,  2.327, 37.   ],\n",
       "       [ 3.118,  4.512, 40.   ],\n",
       "       [ 2.905,  4.023, 10.   ],\n",
       "       [ 3.958,  4.867, 33.   ],\n",
       "       [ 3.127,  2.325, 31.   ],\n",
       "       [ 4.628,  4.416, 10.   ],\n",
       "       [ 5.177,  4.889, 28.   ],\n",
       "       [ 2.334,  2.824, 39.   ],\n",
       "       [ 4.251,  4.939, 30.   ],\n",
       "       [ 7.236,  4.735,  6.   ],\n",
       "       [ 7.144,  5.148, 21.   ],\n",
       "       [ 5.735,  4.392, 19.   ],\n",
       "       [ 6.31 ,  4.701,  4.   ],\n",
       "       [ 7.172,  6.495, 39.   ],\n",
       "       [ 5.748,  6.711, 32.   ],\n",
       "       [ 5.156,  2.644, 12.   ],\n",
       "       [ 5.052,  4.488, 24.   ],\n",
       "       [ 4.748,  6.637, 21.   ],\n",
       "       [ 6.907,  2.103, 13.   ],\n",
       "       [ 5.162,  3.644, 23.   ],\n",
       "       [ 5.041,  5.964, 24.   ],\n",
       "       [ 5.614,  6.599, 33.   ],\n",
       "       [ 6.25 ,  6.301,  6.   ],\n",
       "       [ 6.954,  6.43 , 25.   ],\n",
       "       [ 5.922,  4.685, 19.   ],\n",
       "       [ 6.83 ,  3.419,  8.   ],\n",
       "       [ 6.004,  4.942,  8.   ],\n",
       "       [ 4.732,  4.914, 27.   ],\n",
       "       [ 5.852,  5.954, 33.   ],\n",
       "       [ 5.535,  6.369,  4.   ],\n",
       "       [ 6.239,  2.924, 17.   ],\n",
       "       [ 6.802,  5.004, 34.   ],\n",
       "       [ 4.834,  4.072, 19.   ],\n",
       "       [ 6.51 ,  6.494, 16.   ],\n",
       "       [ 4.691,  6.777, 10.   ],\n",
       "       [ 5.699,  6.763,  6.   ],\n",
       "       [ 6.311,  6.058,  8.   ],\n",
       "       [ 6.23 ,  5.082, 21.   ],\n",
       "       [ 5.455,  4.882, 21.   ],\n",
       "       [ 6.7  ,  6.201, 23.   ],\n",
       "       [ 6.714,  5.423, 12.   ],\n",
       "       [ 7.007,  3.598, 34.   ],\n",
       "       [ 6.488,  4.221, 33.   ],\n",
       "       [ 5.714,  4.027, 18.   ],\n",
       "       [ 5.766,  3.572, 32.   ],\n",
       "       [ 6.357,  4.121, 32.   ],\n",
       "       [ 7.3  ,  5.324, 14.   ],\n",
       "       [ 5.222,  4.104,  8.   ],\n",
       "       [ 5.61 ,  5.907, 11.   ],\n",
       "       [ 7.048,  6.423, 11.   ],\n",
       "       [ 6.466,  3.343, 15.   ],\n",
       "       [ 5.366,  6.185,  4.   ],\n",
       "       [ 6.104,  5.929, 12.   ],\n",
       "       [ 6.224,  5.593, 20.   ],\n",
       "       [ 6.081,  5.776, 17.   ],\n",
       "       [ 6.215,  4.293, 22.   ],\n",
       "       [ 5.608,  2.361, 30.   ],\n",
       "       [ 5.703,  2.417, 35.   ],\n",
       "       [ 7.324,  2.913, 14.   ],\n",
       "       [ 6.866,  6.282, 14.   ],\n",
       "       [ 6.535,  4.798, 19.   ],\n",
       "       [ 5.121,  4.299, 22.   ],\n",
       "       [ 5.615,  3.124,  9.   ],\n",
       "       [ 6.278,  3.548,  4.   ],\n",
       "       [ 7.146,  6.451, 10.   ],\n",
       "       [ 5.379,  2.569, 10.   ],\n",
       "       [ 5.207,  4.458, 16.   ],\n",
       "       [ 6.643,  3.042, 26.   ],\n",
       "       [ 5.355,  6.169, 11.   ],\n",
       "       [ 5.804,  5.027, 37.   ],\n",
       "       [ 5.316,  2.526, 34.   ],\n",
       "       [ 6.072,  4.349, 24.   ],\n",
       "       [ 5.099,  5.052, 14.   ],\n",
       "       [ 6.148,  5.209,  8.   ],\n",
       "       [ 5.077,  5.682, 27.   ],\n",
       "       [ 5.285,  4.554, 27.   ],\n",
       "       [ 6.795,  2.139,  6.   ],\n",
       "       [ 5.559,  6.272, 29.   ],\n",
       "       [ 6.954,  4.647, 35.   ],\n",
       "       [ 7.013,  6.646, 24.   ],\n",
       "       [ 6.905,  6.181, 31.   ],\n",
       "       [ 4.955,  5.195, 34.   ],\n",
       "       [ 6.575,  4.996, 35.   ],\n",
       "       [ 6.833,  2.198, 13.   ],\n",
       "       [ 6.754,  5.586,  6.   ],\n",
       "       [ 5.386,  3.279, 13.   ],\n",
       "       [ 6.385,  3.708,  8.   ],\n",
       "       [ 6.825,  4.198, 14.   ],\n",
       "       [ 6.788,  6.844, 20.   ],\n",
       "       [ 5.495,  2.725, 31.   ],\n",
       "       [ 7.106,  4.662, 37.   ],\n",
       "       [ 7.302,  5.124, 11.   ],\n",
       "       [ 7.354,  4.684, 37.   ],\n",
       "       [ 6.101,  2.688, 10.   ],\n",
       "       [ 5.643,  2.157, 19.   ],\n",
       "       [ 5.12 ,  5.654,  8.   ],\n",
       "       [ 4.771,  3.811, 10.   ],\n",
       "       [ 7.001,  5.396,  4.   ],\n",
       "       [ 6.542,  2.947, 11.   ],\n",
       "       [ 5.874,  4.856, 19.   ],\n",
       "       [ 7.343,  3.021, 19.   ],\n",
       "       [ 5.354,  3.304, 12.   ],\n",
       "       [ 6.7  ,  4.251,  4.   ],\n",
       "       [ 4.843,  4.501, 32.   ],\n",
       "       [ 5.258,  5.911, 10.   ],\n",
       "       [ 5.487,  2.164, 10.   ],\n",
       "       [ 6.28 ,  6.131,  4.   ],\n",
       "       [ 5.711,  5.674, 11.   ],\n",
       "       [ 6.06 ,  4.659, 11.   ]])"
      ]
     },
     "execution_count": 6,
     "metadata": {},
     "output_type": "execute_result"
    }
   ],
   "source": [
    "D = pd.read_csv(\"./data/2.4/DemandMinus.csv\").iloc[:, 1:].to_numpy()\n",
    "D"
   ]
  },
  {
   "cell_type": "markdown",
   "metadata": {},
   "source": [
    "## Read vars"
   ]
  },
  {
   "cell_type": "code",
   "execution_count": 7,
   "metadata": {},
   "outputs": [
    {
     "data": {
      "text/plain": [
       "{0: <gurobi.Var chose[0]>,\n",
       " 1: <gurobi.Var chose[1]>,\n",
       " 2: <gurobi.Var chose[2]>,\n",
       " 3: <gurobi.Var chose[3]>,\n",
       " 4: <gurobi.Var chose[4]>,\n",
       " 5: <gurobi.Var chose[5]>,\n",
       " 6: <gurobi.Var chose[6]>,\n",
       " 7: <gurobi.Var chose[7]>,\n",
       " 8: <gurobi.Var chose[8]>,\n",
       " 9: <gurobi.Var chose[9]>}"
      ]
     },
     "execution_count": 7,
     "metadata": {},
     "output_type": "execute_result"
    }
   ],
   "source": [
    "x = {}\n",
    "c = {}\n",
    "\n",
    "for i in range(10):\n",
    "    c[i] = model.getVarByName(f\"chose[{i}]\")\n",
    "    for j in range(200):\n",
    "        x[i, j] = model.getVarByName(f\"x[{i},{j}]\")\n",
    "\n",
    "c"
   ]
  },
  {
   "cell_type": "markdown",
   "metadata": {},
   "source": [
    "## Calculate 2.4"
   ]
  },
  {
   "cell_type": "markdown",
   "metadata": {},
   "source": [
    "Calculate 2.2.1"
   ]
  },
  {
   "cell_type": "code",
   "execution_count": 8,
   "metadata": {},
   "outputs": [
    {
     "name": "stdout",
     "output_type": "stream",
     "text": [
      "Gurobi Optimizer version 11.0.2 build v11.0.2rc0 (win64 - Windows 11.0 (22631.2))\n",
      "\n",
      "CPU model: AMD Ryzen 7 5800H with Radeon Graphics, instruction set [SSE2|AVX|AVX2]\n",
      "Thread count: 8 physical cores, 16 logical processors, using up to 16 threads\n",
      "\n",
      "Academic license 2395694 - for non-commercial use only - registered to tr___@gmail.com\n",
      "Optimize a model with 210 rows, 2010 columns and 4010 nonzeros\n",
      "Model fingerprint: 0x601840fa\n",
      "Variable types: 0 continuous, 2010 integer (10 binary)\n",
      "Coefficient statistics:\n",
      "  Matrix range     [1e+00, 1e+03]\n",
      "  Objective range  [3e-01, 7e+02]\n",
      "  Bounds range     [1e+00, 1e+00]\n",
      "  RHS range        [7e+00, 4e+01]\n",
      "Found heuristic solution: objective 23918.380000\n",
      "Presolve time: 0.01s\n",
      "Presolved: 210 rows, 2010 columns, 4010 nonzeros\n",
      "Variable types: 0 continuous, 2010 integer (10 binary)\n",
      "Found heuristic solution: objective 23657.160000\n",
      "\n",
      "Root relaxation: objective 1.093869e+04, 239 iterations, 0.00 seconds (0.00 work units)\n",
      "\n",
      "    Nodes    |    Current Node    |     Objective Bounds      |     Work\n",
      " Expl Unexpl |  Obj  Depth IntInf | Incumbent    BestBd   Gap | It/Node Time\n",
      "\n",
      "     0     0 10938.6900    0    6 23657.1600 10938.6900  53.8%     -    0s\n",
      "H    0     0                    13445.580000 10938.6900  18.6%     -    0s\n",
      "H    0     0                    13443.450000 10938.6900  18.6%     -    0s\n",
      "H    0     0                    12845.420000 10938.6900  14.8%     -    0s\n",
      "H    0     0                    12383.400000 10938.6900  11.7%     -    0s\n",
      "H    0     0                    11764.540000 10938.6900  7.02%     -    0s\n",
      "H    0     0                    11757.180000 11302.4800  3.87%     -    0s\n",
      "H    0     0                    11326.790000 11302.4800  0.21%     -    0s\n",
      "     0     0 11326.7900    0  102 11326.7900 11326.7900  0.00%     -    0s\n",
      "\n",
      "Cutting planes:\n",
      "  Gomory: 1\n",
      "  Implied bound: 81\n",
      "  MIR: 2\n",
      "  StrongCG: 1\n",
      "  Flow cover: 1\n",
      "  Relax-and-lift: 2\n",
      "\n",
      "Explored 1 nodes (349 simplex iterations) in 0.07 seconds (0.02 work units)\n",
      "Thread count was 16 (of 16 available processors)\n",
      "\n",
      "Solution count 9: 11326.8 11757.2 11764.5 ... 23918.4\n",
      "\n",
      "Optimal solution found (tolerance 1.00e-04)\n",
      "Best objective 1.132679000000e+04, best bound 1.132679000000e+04, gap 0.0000%\n"
     ]
    }
   ],
   "source": [
    "model.optimize()"
   ]
  },
  {
   "cell_type": "markdown",
   "metadata": {},
   "source": [
    "Update the demand"
   ]
  },
  {
   "cell_type": "code",
   "execution_count": 9,
   "metadata": {},
   "outputs": [
    {
     "name": "stdout",
     "output_type": "stream",
     "text": [
      "Gurobi Optimizer version 11.0.2 build v11.0.2rc0 (win64 - Windows 11.0 (22631.2))\n",
      "\n",
      "CPU model: AMD Ryzen 7 5800H with Radeon Graphics, instruction set [SSE2|AVX|AVX2]\n",
      "Thread count: 8 physical cores, 16 logical processors, using up to 16 threads\n",
      "\n",
      "Academic license 2395694 - for non-commercial use only - registered to tr___@gmail.com\n",
      "Optimize a model with 215 rows, 2010 columns and 4015 nonzeros\n",
      "Model fingerprint: 0x4efd2fab\n",
      "Variable types: 0 continuous, 2010 integer (10 binary)\n",
      "Coefficient statistics:\n",
      "  Matrix range     [1e+00, 1e+03]\n",
      "  Objective range  [3e-01, 7e+02]\n",
      "  Bounds range     [1e+00, 1e+00]\n",
      "  RHS range        [4e+00, 4e+01]\n",
      "\n",
      "Loaded MIP start from previous solve with objective 11326.8\n",
      "\n",
      "Presolve removed 10 rows and 1005 columns\n",
      "Presolve time: 0.01s\n",
      "Presolved: 205 rows, 1005 columns, 2005 nonzeros\n",
      "Found heuristic solution: objective 9620.6900000\n",
      "Variable types: 0 continuous, 1005 integer (5 binary)\n",
      "Found heuristic solution: objective 9602.9300000\n",
      "\n",
      "Root relaxation: objective 8.712170e+03, 214 iterations, 0.00 seconds (0.00 work units)\n",
      "\n",
      "    Nodes    |    Current Node    |     Objective Bounds      |     Work\n",
      " Expl Unexpl |  Obj  Depth IntInf | Incumbent    BestBd   Gap | It/Node Time\n",
      "\n",
      "     0     0 8712.17000    0    3 9602.93000 8712.17000  9.28%     -    0s\n",
      "H    0     0                    9349.0100000 8712.17000  6.81%     -    0s\n",
      "H    0     0                    9348.9100000 8712.17000  6.81%     -    0s\n",
      "H    0     0                    9342.5900000 8712.17000  6.75%     -    0s\n",
      "H    0     0                    9302.9900000 8712.17000  6.35%     -    0s\n",
      "\n",
      "Cutting planes:\n",
      "  Gomory: 2\n",
      "  Implied bound: 52\n",
      "\n",
      "Explored 1 nodes (214 simplex iterations) in 0.05 seconds (0.01 work units)\n",
      "Thread count was 16 (of 16 available processors)\n",
      "\n",
      "Solution count 7: 9302.99 9342.59 9348.91 ... 11326.8\n",
      "\n",
      "Optimal solution found (tolerance 1.00e-04)\n",
      "Best objective 9.302990000000e+03, best bound 9.302990000000e+03, gap 0.0000%\n"
     ]
    }
   ],
   "source": [
    "# if model.status == GRB.Status.OPTIMAL:\n",
    "for i in range(10):\n",
    "    if not c[i].X:\n",
    "        model.addConstr(c[i] == 0)\n",
    "for j in range(200):\n",
    "    temp = model.getConstrByName(f\"shop-demand[{j}]\")\n",
    "    if temp: model.remove(temp)\n",
    "    model.addConstr(quicksum(x[i, j] for i in range(10)) >= D[j, -1])\n",
    "\n",
    "model.write(\"./model/2.4/model.lp\")\n",
    "model.optimize()"
   ]
  },
  {
   "cell_type": "markdown",
   "metadata": {},
   "source": [
    "Solve the model again"
   ]
  },
  {
   "cell_type": "code",
   "execution_count": 11,
   "metadata": {},
   "outputs": [],
   "source": [
    "if model.status == GRB.Status.OPTIMAL:\n",
    "    temp = sys.stdout\n",
    "    sys.stdout = open(\"./out/2.4.out\", \"w\")\n",
    "    # print(0, end=\" \")\n",
    "    for i in range(10):\n",
    "        print(round(c[i].X), end=\" \")\n",
    "    print()\n",
    "    for i in range(10):\n",
    "        if c[i].X:\n",
    "            for j in range(200):\n",
    "                if x[i, j].X != 0:\n",
    "                    print(f\"{i + 1} {j + 1} {x[i, j].X}\")\n",
    "    print(model.ObjVal)\n",
    "    sys.stdout = temp"
   ]
  }
 ],
 "metadata": {
  "kernelspec": {
   "display_name": "env",
   "language": "python",
   "name": "python3"
  },
  "language_info": {
   "codemirror_mode": {
    "name": "ipython",
    "version": 3
   },
   "file_extension": ".py",
   "mimetype": "text/x-python",
   "name": "python",
   "nbconvert_exporter": "python",
   "pygments_lexer": "ipython3",
   "version": "3.10.9"
  }
 },
 "nbformat": 4,
 "nbformat_minor": 2
}
