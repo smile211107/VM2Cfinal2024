{
 "cells": [
  {
   "cell_type": "code",
   "execution_count": null,
   "metadata": {},
   "outputs": [],
   "source": [
    "from gurobipy import *\n",
    "import numpy as np\n",
    "import pandas as pd\n",
    "import sys"
   ]
  },
  {
   "cell_type": "markdown",
   "metadata": {},
   "source": [
    "## Load model"
   ]
  },
  {
   "cell_type": "code",
   "execution_count": null,
   "metadata": {},
   "outputs": [],
   "source": [
    "model = read(\"./model/2.2.1.mps\")\n",
    "model.write(\"./model/2.2.1/model.lp\")\n",
    "print(f\"Number of vars: {len(model.getVars())}\")\n",
    "print(f\"Number of constraints: {len(model.getConstrs())}\")\n",
    "print(model.getVars())"
   ]
  },
  {
   "cell_type": "markdown",
   "metadata": {},
   "source": [
    "## Read file"
   ]
  },
  {
   "cell_type": "code",
   "execution_count": null,
   "metadata": {},
   "outputs": [],
   "source": [
    "f = pd.read_csv(\"./data/2.4/Facility.csv\").iloc[:, 1:].to_numpy()\n",
    "f"
   ]
  },
  {
   "cell_type": "code",
   "execution_count": null,
   "metadata": {},
   "outputs": [],
   "source": [
    "t = pd.read_csv(\"./data/2.4/TransCost.csv\", header=None).to_numpy()\n",
    "t"
   ]
  },
  {
   "cell_type": "code",
   "execution_count": null,
   "metadata": {},
   "outputs": [],
   "source": [
    "D = pd.read_csv(\"./data/2.4/DemandMinus.csv\").iloc[:, 1:].to_numpy()\n",
    "D"
   ]
  },
  {
   "cell_type": "markdown",
   "metadata": {},
   "source": [
    "## Read vars"
   ]
  },
  {
   "cell_type": "code",
   "execution_count": null,
   "metadata": {},
   "outputs": [],
   "source": [
    "x = {}\n",
    "c = {}\n",
    "\n",
    "for i in range(10):\n",
    "    c[i] = model.getVarByName(f\"chose[{i}]\")\n",
    "    for j in range(200):\n",
    "        x[i, j] = model.getVarByName(f\"x[{i},{j}]\")\n",
    "\n",
    "c"
   ]
  },
  {
   "cell_type": "markdown",
   "metadata": {},
   "source": [
    "## Calculate 2.4"
   ]
  },
  {
   "cell_type": "markdown",
   "metadata": {},
   "source": [
    "Calculate 2.2.1"
   ]
  },
  {
   "cell_type": "code",
   "execution_count": null,
   "metadata": {},
   "outputs": [],
   "source": [
    "model.optimize()"
   ]
  },
  {
   "cell_type": "markdown",
   "metadata": {},
   "source": [
    "Take the solution and plug back to model"
   ]
  },
  {
   "cell_type": "code",
   "execution_count": null,
   "metadata": {},
   "outputs": [],
   "source": [
    "if model.status == GRB.Status.OPTIMAL:\n",
    "    for i in range(10):\n",
    "        if c[i].X:\n",
    "            for j in range(200):\n",
    "                if x[i, j].X != 0:\n",
    "                    print(f\"{i + 1} {j + 1} {x[i, j].X}\")"
   ]
  },
  {
   "cell_type": "markdown",
   "metadata": {},
   "source": [
    "Update the demand"
   ]
  },
  {
   "cell_type": "code",
   "execution_count": null,
   "metadata": {},
   "outputs": [],
   "source": [
    "if model.status == GRB.Status.OPTIMAL:\n",
    "    for i in range(10):\n",
    "        if not c[i].X:\n",
    "            model.addConstr(c[i] == 0)\n",
    "    for j in range(200):\n",
    "        temp = model.getConstrByName(f\"shop-demand[{j}]\")\n",
    "        if temp: model.remove(temp)\n",
    "        model.addConstr(quicksum(x[i, j] for i in range(10)) >= D[j, -1])\n",
    "\n",
    "model.write(\"./model/2.4/model.lp\")\n",
    "model.optimize()"
   ]
  },
  {
   "cell_type": "markdown",
   "metadata": {},
   "source": [
    "Solve the model again"
   ]
  },
  {
   "cell_type": "code",
   "execution_count": null,
   "metadata": {},
   "outputs": [],
   "source": [
    "if model.status == GRB.Status.OPTIMAL:\n",
    "    temp = sys.stdout\n",
    "    sys.stdout = open(\"./out/2.4.out\", \"w\")\n",
    "    for i in range(10):\n",
    "        print(round(c[i].X), end=\" \")\n",
    "    print()\n",
    "    for i in range(10):\n",
    "        if c[i].X:\n",
    "            for j in range(200):\n",
    "                if x[i, j].X != 0:\n",
    "                    print(f\"{i + 1} {j + 1} {x[i, j].X}\")\n",
    "    print(model.ObjVal)\n",
    "    sys.stdout = temp"
   ]
  }
 ],
 "metadata": {
  "kernelspec": {
   "display_name": "env",
   "language": "python",
   "name": "python3"
  },
  "language_info": {
   "codemirror_mode": {
    "name": "ipython",
    "version": 3
   },
   "file_extension": ".py",
   "mimetype": "text/x-python",
   "name": "python",
   "nbconvert_exporter": "python",
   "pygments_lexer": "ipython3",
   "version": "3.12.4"
  }
 },
 "nbformat": 4,
 "nbformat_minor": 2
}
