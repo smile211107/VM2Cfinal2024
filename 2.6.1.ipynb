{
 "cells": [
  {
   "cell_type": "code",
   "execution_count": 1,
   "metadata": {},
   "outputs": [],
   "source": [
    "import pandas as pd\n",
    "import numpy as np\n",
    "from gurobipy import *\n",
    "from sklearn.cluster import KMeans"
   ]
  },
  {
   "cell_type": "code",
   "execution_count": 2,
   "metadata": {},
   "outputs": [],
   "source": [
    "BUILD_COST = 40\n",
    "CAPACITY = 1000"
   ]
  },
  {
   "cell_type": "code",
   "execution_count": 3,
   "metadata": {},
   "outputs": [],
   "source": [
    "k = 5\n",
    "D = pd.read_csv(\"./data/2.6/Demand.txt\", delimiter=\"\\t\", header=None).to_numpy()\n",
    "kmean = KMeans(k)\n",
    "kmean.fit(D[:, 1:3])\n",
    "\n",
    "centers = kmean.cluster_centers_\n",
    "\n",
    "with open(\"./data/2.6/Facility.txt\", \"w\") as temp:\n",
    "    for id, i in enumerate(centers):\n",
    "        print(id + 1, *np.round(i, 3), CAPACITY, BUILD_COST, file=temp)\n",
    "\n",
    "with open(\"./data/2.6/TransCost.txt\", \"w\") as temp:\n",
    "    for j in centers:\n",
    "        for i in D:\n",
    "            print(np.round(np.linalg.norm(j - i[1:3]), 3), end=\" \", file=temp)\n",
    "        print(\"\", file=temp)"
   ]
  },
  {
   "cell_type": "code",
   "execution_count": 4,
   "metadata": {},
   "outputs": [],
   "source": [
    "f = pd.read_csv(\"./data/2.6/Facility.txt\", delimiter=\" \", header=None).dropna(axis=1).iloc[:, 1:].to_numpy()\n",
    "t = pd.read_csv(\"./data/2.6/TransCost.txt\", delimiter=\" \", header=None).dropna(axis=1).to_numpy()\n",
    "D = pd.read_csv(\"./data/2.6/Demand.txt\", delimiter=\"\\t\", header=None).to_numpy()"
   ]
  },
  {
   "cell_type": "code",
   "execution_count": 5,
   "metadata": {},
   "outputs": [
    {
     "name": "stdout",
     "output_type": "stream",
     "text": [
      "Set parameter WLSAccessID\n",
      "Set parameter WLSSecret\n",
      "Set parameter LicenseID to value 2395694\n",
      "Academic license 2395694 - for non-commercial use only - registered to tr___@gmail.com\n",
      "Gurobi Optimizer version 11.0.2 build v11.0.2rc0 (win64 - Windows 11.0 (22631.2))\n",
      "\n",
      "CPU model: AMD Ryzen 7 5700U with Radeon Graphics, instruction set [SSE2|AVX|AVX2]\n",
      "Thread count: 8 physical cores, 16 logical processors, using up to 16 threads\n",
      "\n",
      "Academic license 2395694 - for non-commercial use only - registered to tr___@gmail.com\n",
      "Optimize a model with 205 rows, 1005 columns and 2005 nonzeros\n",
      "Model fingerprint: 0x20df8cf7\n",
      "Variable types: 1000 continuous, 5 integer (5 binary)\n",
      "Coefficient statistics:\n",
      "  Matrix range     [1e+00, 1e+03]\n",
      "  Objective range  [1e-01, 4e+01]\n",
      "  Bounds range     [1e+00, 1e+00]\n",
      "  RHS range        [7e+00, 4e+01]\n",
      "Presolve time: 0.01s\n",
      "Presolved: 205 rows, 1005 columns, 2005 nonzeros\n",
      "Variable types: 1000 continuous, 5 integer (5 binary)\n",
      "Found heuristic solution: objective 4190.6010000\n",
      "\n",
      "Root relaxation: objective 4.189761e+03, 215 iterations, 0.00 seconds (0.00 work units)\n",
      "\n",
      "    Nodes    |    Current Node    |     Objective Bounds      |     Work\n",
      " Expl Unexpl |  Obj  Depth IntInf | Incumbent    BestBd   Gap | It/Node Time\n",
      "\n",
      "     0     0 4189.76100    0    1 4190.60100 4189.76100  0.02%     -    0s\n",
      "\n",
      "Explored 1 nodes (215 simplex iterations) in 0.03 seconds (0.01 work units)\n",
      "Thread count was 16 (of 16 available processors)\n",
      "\n",
      "Solution count 1: 4190.6 \n",
      "\n",
      "Optimal solution found (tolerance 1.00e-04)\n",
      "Best objective 4.190601000000e+03, best bound 4.190601000000e+03, gap 0.0000%\n"
     ]
    }
   ],
   "source": [
    "model = Model(\"2.6.3\")\n",
    "x = model.addMVar(t.shape, vtype=GRB.CONTINUOUS, name=\"x\")\n",
    "c = model.addMVar((f.shape[0]), vtype=GRB.BINARY, name=\"c\")\n",
    "model.update()\n",
    "\n",
    "model.addConstr(x.sum(axis=1) <= CAPACITY * c)\n",
    "model.addConstr(x.sum(axis=0) >= D[:, -1])\n",
    "\n",
    "model.setObjective((c * BUILD_COST).sum() + (x * t).sum(), sense=GRB.MINIMIZE)\n",
    "\n",
    "model.optimize()"
   ]
  },
  {
   "cell_type": "code",
   "execution_count": 6,
   "metadata": {},
   "outputs": [],
   "source": [
    "if model.status == GRB.Status.OPTIMAL:\n",
    "    with open(\"./out/2.6.out\", \"w\") as temp:\n",
    "        print(0, end=\" \", file=temp)\n",
    "        for i in range(f.shape[0]):\n",
    "            print(int(abs(np.round(c[i].X))), end=\" \", file=temp)\n",
    "        print(\"\", file=temp)\n",
    "        for i in range(f.shape[0]):\n",
    "            if c[i].X:\n",
    "                for j in range(D.shape[0]):\n",
    "                    if x[i, j].X != 0:\n",
    "                        print(f\"{i + 1} {j + 1} {x[i, j].X}\", file=temp)\n",
    "        print(model.ObjVal, file=temp)"
   ]
  }
 ],
 "metadata": {
  "kernelspec": {
   "display_name": "env",
   "language": "python",
   "name": "python3"
  },
  "language_info": {
   "codemirror_mode": {
    "name": "ipython",
    "version": 3
   },
   "file_extension": ".py",
   "mimetype": "text/x-python",
   "name": "python",
   "nbconvert_exporter": "python",
   "pygments_lexer": "ipython3",
   "version": "3.12.4"
  }
 },
 "nbformat": 4,
 "nbformat_minor": 2
}
