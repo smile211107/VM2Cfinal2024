{
 "cells": [
  {
   "cell_type": "code",
   "execution_count": 1,
   "metadata": {},
   "outputs": [],
   "source": [
    "import numpy as np\n",
    "import matplotlib.pyplot as plt\n",
    "from sklearn.cluster import KMeans\n",
    "from scipy.spatial.distance import cdist\n",
    "import threading\n",
    "import math\n",
    "import pandas as pd\n",
    "from scipy.optimize import minimize\n",
    "import asyncio\n",
    "import datetime\n",
    "import hashlib\n",
    "import os\n",
    "import json"
   ]
  },
  {
   "cell_type": "code",
   "execution_count": 2,
   "metadata": {},
   "outputs": [],
   "source": [
    "def change(filename):\n",
    "        f = open(f\"{filename}.txt\", \"r\")\n",
    "        out = open(f\"{filename}.csv\", \"w\")\n",
    "        for line in f:\n",
    "                change = line.replace(\"\\t\", \",\")\n",
    "                out.write(change)"
   ]
  },
  {
   "cell_type": "code",
   "execution_count": 3,
   "metadata": {},
   "outputs": [],
   "source": [
    "change(\"Demand\")"
   ]
  },
  {
   "cell_type": "code",
   "execution_count": 4,
   "metadata": {},
   "outputs": [],
   "source": [
    "def read_file(filename):\n",
    "    with open(filename,\"r\") as f:\n",
    "        df = pd.read_csv(f,header=None)\n",
    "        return df.to_numpy()"
   ]
  },
  {
   "cell_type": "code",
   "execution_count": 5,
   "metadata": {},
   "outputs": [],
   "source": [
    "shops = read_file(\"Demand.csv\")\n",
    "values = np.array(shops[:, 3])\n",
    "points = np.array(shops[:, 1:3])\n",
    "x_range = [1, 9]\n",
    "y_range = [0, 9]\n",
    "n = len(values)\n",
    "cost = 40\n",
    "TransCost = np.array([0] * n)"
   ]
  },
  {
   "cell_type": "code",
   "execution_count": 12,
   "metadata": {},
   "outputs": [
    {
     "name": "stdout",
     "output_type": "stream",
     "text": [
      "Thread 1 Started\n",
      "Thread 2 Started\n",
      "Thread 3 Started\n",
      "Thread 4 Started\n",
      "Thread 5 Started\n",
      "Thread 6 Started\n",
      "Thread 7 Started\n",
      "Thread 8 Started\n",
      "Thread 9 Started\n",
      "Thread 1 Finishes\n",
      "Thread 2 Finishes\n",
      "Thread 3 Finishes\n",
      "Thread 4 Finishes\n",
      "Thread 5 Finishes\n",
      "Thread 6 Finishes\n",
      "Thread 7 Finishes\n",
      "Thread 8 Finishes\n"
     ]
    },
    {
     "name": "stderr",
     "output_type": "stream",
     "text": [
      "Exception in thread Thread-40 (run_task):\n",
      "Traceback (most recent call last):\n",
      "  File \"c:\\Python312\\Lib\\threading.py\", line 1073, in _bootstrap_inner\n",
      "    self.run()\n",
      "  File \"C:\\Users\\ASUS\\AppData\\Roaming\\Python\\Python312\\site-packages\\ipykernel\\ipkernel.py\", line 766, in run_closure\n",
      "    _threading_Thread_run(self)\n",
      "  File \"c:\\Python312\\Lib\\threading.py\", line 1010, in run\n",
      "    self._target(*self._args, **self._kwargs)\n",
      "  File \"C:\\Users\\ASUS\\AppData\\Local\\Temp\\ipykernel_2192\\3976881985.py\", line 114, in run_task\n",
      "IndexError: index 200 is out of bounds for axis 0 with size 200\n"
     ]
    },
    {
     "name": "stdout",
     "output_type": "stream",
     "text": [
      "All threads have finished.\n",
      "Thread 0 Started\n",
      "Thread 0 Finishes\n",
      "Completed all tasks.\n"
     ]
    }
   ],
   "source": [
    "def constrained_kmeans(points, values, max_sum, m):\n",
    "    clusters = KMeans(n_clusters=m).fit(points)\n",
    "    labels = clusters.labels_\n",
    "    max_itr = 100\n",
    "    cur = 0\n",
    "    check = False\n",
    "    while cur < max_itr:\n",
    "        cur += 1\n",
    "        cluster_sums = [np.sum(values[labels == i]) for i in range(m)]\n",
    "        if all(sum_val < max_sum for sum_val in cluster_sums):\n",
    "            check = True\n",
    "            break\n",
    "        for i, sum_val in enumerate(cluster_sums):\n",
    "            if sum_val >= max_sum:\n",
    "                indices = np.where(labels == i)[0]\n",
    "                np.random.shuffle(indices)\n",
    "                for idx in indices:\n",
    "                    for j in range(m):\n",
    "                        if j != i and np.sum(values[labels == j]) + values[idx] < max_sum:\n",
    "                            labels[idx] = j\n",
    "                            break\n",
    "    if check == True:\n",
    "        return labels\n",
    "    return -1\n",
    "\n",
    "# Function to find the geometric median\n",
    "def geometric_median(X, weights, eps=1e-5):\n",
    "    def objective(y):\n",
    "        distances = cdist(X, [y])\n",
    "        weighted_sum = np.sum(distances * weights[:, np.newaxis])\n",
    "        return weighted_sum\n",
    "    \n",
    "    y = np.mean(X, axis=0)\n",
    "    result = minimize(objective, y, method='SLSQP')\n",
    "    return result.x\n",
    "\n",
    "# Function to calculate weighted sum of distances\n",
    "def calculate_weighted_sum_of_distances(medians, points, values, labels):\n",
    "    weighted_sums_of_distances = []\n",
    "    for i, median in enumerate(medians):\n",
    "        if median is not None:\n",
    "            cluster_points = points[labels == i]\n",
    "            cluster_values = values[labels == i]\n",
    "            distances = np.linalg.norm(cluster_points - median, axis=1)\n",
    "            weighted_distances = distances * cluster_values\n",
    "            weighted_sum_of_distances = np.sum(weighted_distances)\n",
    "            weighted_sums_of_distances.append(weighted_sum_of_distances)\n",
    "        else:\n",
    "            weighted_sums_of_distances.append(None)\n",
    "    return weighted_sums_of_distances\n",
    "    \n",
    "# Function to plot clusters\n",
    "def plot_clusters(points, labels, medians, filename='clusters_with_medians.png'):\n",
    "    plt.figure(figsize=(15, 15))\n",
    "    colors = plt.get_cmap('tab10', len(medians))\n",
    "    for i in range(len(medians)):\n",
    "        cluster_points = points[labels == i]\n",
    "        if len(cluster_points) > 0:\n",
    "            plt.scatter(cluster_points[:, 0], cluster_points[:, 1], color=colors(i), label=f'Cluster {i}')\n",
    "            if medians[i] is not None:\n",
    "                plt.scatter(medians[i][0], medians[i][1], color='black', marker='x', s=100, label=f'Median {i}')\n",
    "                for point in cluster_points:\n",
    "                    plt.plot([medians[i][0], point[0]], [medians[i][1], point[1]], color=colors(i), linestyle='-')\n",
    "    plt.xlim(x_range)\n",
    "    plt.ylim(y_range)\n",
    "    plt.xlabel('X coordinate')\n",
    "    plt.ylabel('Y coordinate')\n",
    "    plt.title('Clusters and Geometric Medians with Connecting Lines')\n",
    "    plt.legend()\n",
    "    plt.grid(True)\n",
    "    global_lock = threading.Lock()\n",
    "    while global_lock.locked():\n",
    "        continue\n",
    "    global_lock.acquire()\n",
    "    #plt.savefig(filename, dpi=300)\n",
    "    global_lock.release()\n",
    "    plt.close()\n",
    "\n",
    "# Main function to run the tasks\n",
    "def run_task(idx, points, values, startm, endm, max_sum, try_num):\n",
    "    plt.ioff()\n",
    "    print(f\"Thread {idx} Started\")\n",
    "    file_name = f\"Task{idx}.txt\"\n",
    "    f = open(file_name, \"w\")\n",
    "    for m in range(startm, endm):\n",
    "        k = [10000000000] * 5\n",
    "        ans = 0\n",
    "        for runtime in range(try_num): \n",
    "            labels = constrained_kmeans(points, values, max_sum, m)\n",
    "            if type(labels) is int:\n",
    "                check = False\n",
    "                break\n",
    "            geometric_medians = []\n",
    "            for i in range(m):\n",
    "                cluster_points = points[labels == i]\n",
    "                cluster_values = values[labels == i]\n",
    "                if len(cluster_points) > 0:\n",
    "                    geometric_median_point = geometric_median(cluster_points, cluster_values)\n",
    "                    geometric_medians.append(geometric_median_point)\n",
    "        \n",
    "            weighted_sums_of_distances = calculate_weighted_sum_of_distances(geometric_medians, points, values, labels)\n",
    "\n",
    "            for i, sum_dist in enumerate(weighted_sums_of_distances):\n",
    "                if sum_dist is not None:\n",
    "                    ans += sum_dist\n",
    "            \n",
    "            ans += cost * m\n",
    "            if k[0] > ans:\n",
    "                k[0] = ans\n",
    "                k[1] = m\n",
    "                k[2] = labels\n",
    "                k[3] = geometric_medians\n",
    "                k[4] = weighted_sums_of_distances\n",
    "        TransCost[m] = k[0] - cost * k[1]\n",
    "        f.write(f\"Minimum cost for {k[1]} clusters is {k[0]} \\n\")\n",
    "        # f.write(\"Geometric medians of clusters: \\n\")\n",
    "        # for i, median in enumerate(k[3]):\n",
    "        #     f.write(f\"Cluster {i}: {median} \\n\")\n",
    "        # f.write(\"Sum of distances from geometric median to other points in each cluster: \\n\")\n",
    "        # for i, sum_dist in enumerate(k[4]):\n",
    "        #     f.write(f\"Cluster {i}: {sum_dist} \\n\")\n",
    "        # plot_filename = f'Nigga{k[1]}.png'\n",
    "        #plot_clusters(points, k[2], k[3], filename=plot_filename)\n",
    "    print(f\"Thread {idx} Finishes\")\n",
    "\n",
    "if __name__ == \"__main__\":\n",
    "    max_sum = 1000\n",
    "    threads = []\n",
    "    for i in range(1, 10):\n",
    "        startm = i * 20 + 1\n",
    "        endm = (i + 1) * 20 + 1\n",
    "        t = threading.Thread(target=run_task, args=(i, points, values, startm, endm, max_sum, 10))\n",
    "        threads.append(t)\n",
    "        t.start()\n",
    "    \n",
    "    for t in threads:\n",
    "        t.join()\n",
    "    print(\"All threads have finished.\")\n",
    "    run_task(0, points, values, 6, 20, max_sum, 10)\n",
    "    print(\"Completed all tasks.\")\n",
    "\n"
   ]
  },
  {
   "cell_type": "code",
   "execution_count": 13,
   "metadata": {},
   "outputs": [
    {
     "data": {
      "image/png": "[encoded data removed]",
      "text/plain": [
       "<Figure size 640x480 with 1 Axes>"
      ]
     },
     "metadata": {},
     "output_type": "display_data"
    }
   ],
   "source": [
    "plt.plot(TransCost)\n",
    "plt.show()"
   ]
  }
 ],
 "metadata": {
  "kernelspec": {
   "display_name": "Python 3",
   "language": "python",
   "name": "python3"
  },
  "language_info": {
   "codemirror_mode": {
    "name": "ipython",
    "version": 3
   },
   "file_extension": ".py",
   "mimetype": "text/x-python",
   "name": "python",
   "nbconvert_exporter": "python",
   "pygments_lexer": "ipython3",
   "version": "3.12.1"
  }
 },
 "nbformat": 4,
 "nbformat_minor": 2
}
